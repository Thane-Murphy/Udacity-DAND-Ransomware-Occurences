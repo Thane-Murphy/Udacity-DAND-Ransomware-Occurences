{
 "cells": [
  {
   "cell_type": "markdown",
   "metadata": {
    "id": "GNIwe5N7s0e_"
   },
   "source": [
    "# Real-world Data Wrangling"
   ]
  },
  {
   "cell_type": "markdown",
   "metadata": {
    "id": "_BG63Tpg8ep_"
   },
   "source": [
    "In this project, you will apply the skills you acquired in the course to gather and wrangle real-world data with two datasets of your choice.\n",
    "\n",
    "You will retrieve and extract the data, assess the data programmatically and visually, accross elements of data quality and structure, and implement a cleaning strategy for the data. You will then store the updated data into your selected database/data store, combine the data, and answer a research question with the datasets.\n",
    "\n",
    "Throughout the process, you are expected to:\n",
    "\n",
    "1. Explain your decisions towards methods used for gathering, assessing, cleaning, storing, and answering the research question\n",
    "2. Write code comments so your code is more readable"
   ]
  },
  {
   "cell_type": "code",
   "execution_count": 1,
   "metadata": {},
   "outputs": [],
   "source": [
    "import pandas as pd\n",
    "import numpy as np\n",
    "import matplotlib.pyplot as plt \n",
    "import seaborn as sns\n",
    "from multiprocessing import Pool\n",
    "import requests\n",
    "from bs4 import BeautifulSoup"
   ]
  },
  {
   "cell_type": "markdown",
   "metadata": {
    "id": "lDYDkH-Zs7Nn"
   },
   "source": [
    "## 1. Gather data\n",
    "\n",
    "In this section, you will extract data using two different data gathering methods and combine the data. Use at least two different types of data-gathering methods."
   ]
  },
  {
   "cell_type": "markdown",
   "metadata": {
    "id": "LbN7z7rcuqpO"
   },
   "source": [
    "### **1.1.** Problem Statement\n",
    "In 2-4 sentences, explain the kind of problem you want to look at and the datasets you will be wrangling for this project."
   ]
  },
  {
   "cell_type": "markdown",
   "metadata": {
    "id": "gi6swhjSYqu2"
   },
   "source": [
    "For the dataframes RansomPost and RansomKaggle I need mainly the group, date time, and target. These will help me identify the times of the year attacks are happening. I want to identify trends, in the USA based on the date time and when ransomware attacks happen. "
   ]
  },
  {
   "cell_type": "markdown",
   "metadata": {
    "id": "8AQfBAdUypMm"
   },
   "source": [
    "### **1.2.** Gather at least two datasets using two different data gathering methods\n",
    "\n",
    "List of data gathering methods:\n",
    "\n",
    "- Download data manually\n",
    "- Programmatically downloading files\n",
    "- Gather data by accessing APIs\n",
    "- Gather and extract data from HTML files using BeautifulSoup\n",
    "- Extract data from a SQL database\n",
    "\n",
    "Each dataset must have at least two variables, and have greater than 500 data samples within each dataset.\n",
    "\n",
    "For each dataset, briefly describe why you picked the dataset and the gathering method (2-3 full sentences), including the names and significance of the variables in the dataset. Show your work (e.g., if using an API to download the data, please include a snippet of your code). \n",
    "\n",
    "Load the dataset programmtically into this notebook."
   ]
  },
  {
   "cell_type": "markdown",
   "metadata": {
    "id": "7e6gS0wL1KTu"
   },
   "source": [
    "#### **Dataset 1**\n",
    "\n",
    "Type: Tabular Data\n",
    "\n",
    "Method: Method one pulling data that is in a table using the html parser for the site https://privtools.github.io/ransomposts/ This is an dynamic webpage so headers will change over time. I will need to save this as a file and work off of it from the cleaning phase on. \n",
    "\n",
    "\n",
    "Dataset variables:\n",
    "*   2nd Column (This will be \"Target\") \t\n",
    "*   3rd Column (This will be \"Groups\")\n",
    "*   4th Column (This will be \"Dates\")"
   ]
  },
  {
   "cell_type": "code",
   "execution_count": 2,
   "metadata": {
    "id": "Su8E0uLuYkHU"
   },
   "outputs": [
    {
     "name": "stdout",
     "output_type": "stream",
     "text": [
      "                            Palmer Construction Co., Inc      bianlian  \\\n",
      "0       https://www.dinamicoil.com/ #DinamicOil #TRIgona       trigona   \n",
      "1                              Merchant ID <merchant.id>     ransomhub   \n",
      "2                          SP Mundi <www.spmundi.com.br>     ransomhub   \n",
      "3                                          www.duvel.com      stormous   \n",
      "4                                            vsexshop.ru    werewolves   \n",
      "...                                                  ...           ...   \n",
      "10391                       Leaks from company EDP Group  ragnarlocker   \n",
      "10392  Leakage from company Catania, Mahon & Rider, PLLC  ragnarlocker   \n",
      "10393                   Brunner Announce – Hello World !  ragnarlocker   \n",
      "10394            Leaks Company Birch Communications inc.  ragnarlocker   \n",
      "10395                                        Windemuller        lorenz   \n",
      "\n",
      "       2024-03-07 17:38:57.721906  \n",
      "0      2024-03-07 15:46:58.075376  \n",
      "1      2024-03-07 14:37:30.493013  \n",
      "2      2024-03-07 14:37:29.544460  \n",
      "3      2024-03-07 11:38:37.222647  \n",
      "4      2024-03-07 16:01:06.195228  \n",
      "...                           ...  \n",
      "10391  2020-06-19 00:00:00.000000  \n",
      "10392  2020-06-11 00:00:00.000000  \n",
      "10393  2020-06-11 00:00:00.000000  \n",
      "10394  2020-06-10 00:00:00.000000  \n",
      "10395  2020-01-12 00:00:00.000000  \n",
      "\n",
      "[10396 rows x 3 columns]\n"
     ]
    }
   ],
   "source": [
    "#FILL IN 1st data gathering and loading method\n",
    "\n",
    "# URL of the webpage\n",
    "url = \"https://privtools.github.io/ransomposts/\"\n",
    "\n",
    "# Send an HTTP GET request to the URL\n",
    "response = requests.get(url)\n",
    "\n",
    "# Parse the HTML content of the webpage\n",
    "soup = BeautifulSoup(response.content, 'html.parser')\n",
    "\n",
    "# Find the table containing the data (if it exists)\n",
    "table = soup.find('table')\n",
    "\n",
    "if table:\n",
    "    # Extract data from the table\n",
    "    rows = []\n",
    "    for row in table.find_all('tr'):\n",
    "        rows.append([cell.get_text(strip=True) for cell in row.find_all('td')])\n",
    "    \n",
    "    # Convert the data to a DataFrame\n",
    "    RansomPost = pd.DataFrame(rows[1:], columns=rows[0])\n",
    "\n",
    "    # Display the DataFrame\n",
    "    print( RansomPost)\n",
    "else:\n",
    "    print(\"No table found on the webpage.\")"
   ]
  },
  {
   "cell_type": "code",
   "execution_count": 3,
   "metadata": {},
   "outputs": [
    {
     "data": {
      "text/html": [
       "<div>\n",
       "<style scoped>\n",
       "    .dataframe tbody tr th:only-of-type {\n",
       "        vertical-align: middle;\n",
       "    }\n",
       "\n",
       "    .dataframe tbody tr th {\n",
       "        vertical-align: top;\n",
       "    }\n",
       "\n",
       "    .dataframe thead th {\n",
       "        text-align: right;\n",
       "    }\n",
       "</style>\n",
       "<table border=\"1\" class=\"dataframe\">\n",
       "  <thead>\n",
       "    <tr style=\"text-align: right;\">\n",
       "      <th></th>\n",
       "      <th>Palmer Construction Co., Inc</th>\n",
       "      <th>bianlian</th>\n",
       "      <th>2024-03-07 17:38:57.721906</th>\n",
       "    </tr>\n",
       "  </thead>\n",
       "  <tbody>\n",
       "    <tr>\n",
       "      <th>0</th>\n",
       "      <td>https://www.dinamicoil.com/ #DinamicOil #TRIgona</td>\n",
       "      <td>trigona</td>\n",
       "      <td>2024-03-07 15:46:58.075376</td>\n",
       "    </tr>\n",
       "    <tr>\n",
       "      <th>1</th>\n",
       "      <td>Merchant ID &lt;merchant.id&gt;</td>\n",
       "      <td>ransomhub</td>\n",
       "      <td>2024-03-07 14:37:30.493013</td>\n",
       "    </tr>\n",
       "    <tr>\n",
       "      <th>2</th>\n",
       "      <td>SP Mundi &lt;www.spmundi.com.br&gt;</td>\n",
       "      <td>ransomhub</td>\n",
       "      <td>2024-03-07 14:37:29.544460</td>\n",
       "    </tr>\n",
       "    <tr>\n",
       "      <th>3</th>\n",
       "      <td>www.duvel.com</td>\n",
       "      <td>stormous</td>\n",
       "      <td>2024-03-07 11:38:37.222647</td>\n",
       "    </tr>\n",
       "    <tr>\n",
       "      <th>4</th>\n",
       "      <td>vsexshop.ru</td>\n",
       "      <td>werewolves</td>\n",
       "      <td>2024-03-07 16:01:06.195228</td>\n",
       "    </tr>\n",
       "  </tbody>\n",
       "</table>\n",
       "</div>"
      ],
      "text/plain": [
       "                       Palmer Construction Co., Inc    bianlian  \\\n",
       "0  https://www.dinamicoil.com/ #DinamicOil #TRIgona     trigona   \n",
       "1                         Merchant ID <merchant.id>   ransomhub   \n",
       "2                     SP Mundi <www.spmundi.com.br>   ransomhub   \n",
       "3                                     www.duvel.com    stormous   \n",
       "4                                       vsexshop.ru  werewolves   \n",
       "\n",
       "   2024-03-07 17:38:57.721906  \n",
       "0  2024-03-07 15:46:58.075376  \n",
       "1  2024-03-07 14:37:30.493013  \n",
       "2  2024-03-07 14:37:29.544460  \n",
       "3  2024-03-07 11:38:37.222647  \n",
       "4  2024-03-07 16:01:06.195228  "
      ]
     },
     "execution_count": 3,
     "metadata": {},
     "output_type": "execute_result"
    }
   ],
   "source": [
    "RansomPost.head()"
   ]
  },
  {
   "cell_type": "markdown",
   "metadata": {
    "id": "hoUjq1tPzz7P"
   },
   "source": [
    "#### Dataset 2\n",
    "\n",
    "Type: XLSX Excel\n",
    "\n",
    "Method: Data was gather by visiting the site and manually downloading the data \n",
    "\n",
    "Dataset variables:\n",
    "\n",
    "*   *Variable 1 Target \n",
    "*   *Variable 2 Sector\n",
    "*   *Variable 3 Date\n",
    "*   *Variable 4 Source Name"
   ]
  },
  {
   "cell_type": "code",
   "execution_count": 4,
   "metadata": {
    "id": "6zT0QxRyYmm7",
    "scrolled": false
   },
   "outputs": [
    {
     "data": {
      "text/html": [
       "<div>\n",
       "<style scoped>\n",
       "    .dataframe tbody tr th:only-of-type {\n",
       "        vertical-align: middle;\n",
       "    }\n",
       "\n",
       "    .dataframe tbody tr th {\n",
       "        vertical-align: top;\n",
       "    }\n",
       "\n",
       "    .dataframe thead th {\n",
       "        text-align: right;\n",
       "    }\n",
       "</style>\n",
       "<table border=\"1\" class=\"dataframe\">\n",
       "  <thead>\n",
       "    <tr style=\"text-align: right;\">\n",
       "      <th></th>\n",
       "      <th>Top ransomware attacks</th>\n",
       "      <th>Unnamed: 1</th>\n",
       "      <th>Unnamed: 2</th>\n",
       "      <th>Unnamed: 3</th>\n",
       "      <th>Unnamed: 4</th>\n",
       "      <th>Unnamed: 5</th>\n",
       "      <th>Unnamed: 6</th>\n",
       "      <th>Unnamed: 7</th>\n",
       "      <th>Unnamed: 8</th>\n",
       "      <th>Unnamed: 9</th>\n",
       "      <th>...</th>\n",
       "      <th>Unnamed: 19</th>\n",
       "      <th>Unnamed: 20</th>\n",
       "      <th>Unnamed: 21</th>\n",
       "      <th>Unnamed: 22</th>\n",
       "      <th>Unnamed: 23</th>\n",
       "      <th>Unnamed: 24</th>\n",
       "      <th>Unnamed: 25</th>\n",
       "      <th>Unnamed: 26</th>\n",
       "      <th>Unnamed: 27</th>\n",
       "      <th>Unnamed: 28</th>\n",
       "    </tr>\n",
       "  </thead>\n",
       "  <tbody>\n",
       "    <tr>\n",
       "      <th>0</th>\n",
       "      <td>Target</td>\n",
       "      <td>AKA</td>\n",
       "      <td>description</td>\n",
       "      <td>sector</td>\n",
       "      <td>organisation size</td>\n",
       "      <td>revenue</td>\n",
       "      <td>cost</td>\n",
       "      <td>ransom cost</td>\n",
       "      <td>data note</td>\n",
       "      <td>ransom paid</td>\n",
       "      <td>...</td>\n",
       "      <td>revenue as of</td>\n",
       "      <td>no of employees</td>\n",
       "      <td>Data Note</td>\n",
       "      <td>Source Name</td>\n",
       "      <td>URL</td>\n",
       "      <td>URL 2</td>\n",
       "      <td>URL 3</td>\n",
       "      <td>URL 4</td>\n",
       "      <td>URL 5</td>\n",
       "      <td>#ID</td>\n",
       "    </tr>\n",
       "    <tr>\n",
       "      <th>1</th>\n",
       "      <td>display label</td>\n",
       "      <td>NaN</td>\n",
       "      <td>NaN</td>\n",
       "      <td>NaN</td>\n",
       "      <td>1,5,10,25,100,300</td>\n",
       "      <td>$USD million</td>\n",
       "      <td>display label</td>\n",
       "      <td>NaN</td>\n",
       "      <td>NaN</td>\n",
       "      <td>NaN</td>\n",
       "      <td>...</td>\n",
       "      <td>NaN</td>\n",
       "      <td>NaN</td>\n",
       "      <td>NaN</td>\n",
       "      <td>NaN</td>\n",
       "      <td>NaN</td>\n",
       "      <td>NaN</td>\n",
       "      <td>NaN</td>\n",
       "      <td>NaN</td>\n",
       "      <td>NaN</td>\n",
       "      <td>NaN</td>\n",
       "    </tr>\n",
       "    <tr>\n",
       "      <th>2</th>\n",
       "      <td>Kaseya</td>\n",
       "      <td>NaN</td>\n",
       "      <td>NaN</td>\n",
       "      <td>tech</td>\n",
       "      <td>300</td>\n",
       "      <td>300</td>\n",
       "      <td>70</td>\n",
       "      <td>70</td>\n",
       "      <td>NaN</td>\n",
       "      <td>unknown</td>\n",
       "      <td>...</td>\n",
       "      <td>NaN</td>\n",
       "      <td>NaN</td>\n",
       "      <td>NaN</td>\n",
       "      <td>NaN</td>\n",
       "      <td>https://techcrunch.com/2021/07/05/kaseya-hack-...</td>\n",
       "      <td>NaN</td>\n",
       "      <td>NaN</td>\n",
       "      <td>NaN</td>\n",
       "      <td>NaN</td>\n",
       "      <td>359</td>\n",
       "    </tr>\n",
       "    <tr>\n",
       "      <th>3</th>\n",
       "      <td>Salvation Army</td>\n",
       "      <td>NaN</td>\n",
       "      <td>NaN</td>\n",
       "      <td>NaN</td>\n",
       "      <td>1</td>\n",
       "      <td>NaN</td>\n",
       "      <td>unknown</td>\n",
       "      <td>NaN</td>\n",
       "      <td>NaN</td>\n",
       "      <td>unknown</td>\n",
       "      <td>...</td>\n",
       "      <td>NaN</td>\n",
       "      <td>NaN</td>\n",
       "      <td>NaN</td>\n",
       "      <td>NaN</td>\n",
       "      <td>https://www.teiss.co.uk/salvation-army-ransomw...</td>\n",
       "      <td>NaN</td>\n",
       "      <td>NaN</td>\n",
       "      <td>NaN</td>\n",
       "      <td>NaN</td>\n",
       "      <td>358</td>\n",
       "    </tr>\n",
       "    <tr>\n",
       "      <th>4</th>\n",
       "      <td>Grupo Fleury</td>\n",
       "      <td>NaN</td>\n",
       "      <td>Brazil's largest diagnostic company</td>\n",
       "      <td>healthcare</td>\n",
       "      <td>10</td>\n",
       "      <td>686</td>\n",
       "      <td>unknown</td>\n",
       "      <td>NaN</td>\n",
       "      <td>NaN</td>\n",
       "      <td>unknown</td>\n",
       "      <td>...</td>\n",
       "      <td>NaN</td>\n",
       "      <td>NaN</td>\n",
       "      <td>NaN</td>\n",
       "      <td>NaN</td>\n",
       "      <td>https://www.bleepingcomputer.com/news/security...</td>\n",
       "      <td>NaN</td>\n",
       "      <td>NaN</td>\n",
       "      <td>NaN</td>\n",
       "      <td>NaN</td>\n",
       "      <td>357</td>\n",
       "    </tr>\n",
       "  </tbody>\n",
       "</table>\n",
       "<p>5 rows × 29 columns</p>\n",
       "</div>"
      ],
      "text/plain": [
       "  Top ransomware attacks Unnamed: 1                           Unnamed: 2  \\\n",
       "0                 Target        AKA                         description    \n",
       "1          display label        NaN                                  NaN   \n",
       "2                 Kaseya        NaN                                  NaN   \n",
       "3         Salvation Army        NaN                                  NaN   \n",
       "4           Grupo Fleury        NaN  Brazil's largest diagnostic company   \n",
       "\n",
       "   Unnamed: 3         Unnamed: 4    Unnamed: 5     Unnamed: 6   Unnamed: 7  \\\n",
       "0      sector  organisation size       revenue           cost  ransom cost   \n",
       "1         NaN  1,5,10,25,100,300  $USD million  display label          NaN   \n",
       "2        tech                300           300             70           70   \n",
       "3         NaN                  1           NaN        unknown          NaN   \n",
       "4  healthcare                 10           686        unknown          NaN   \n",
       "\n",
       "  Unnamed: 8   Unnamed: 9  ...    Unnamed: 19      Unnamed: 20 Unnamed: 21  \\\n",
       "0  data note  ransom paid  ...  revenue as of  no of employees   Data Note   \n",
       "1        NaN          NaN  ...            NaN              NaN         NaN   \n",
       "2        NaN      unknown  ...            NaN              NaN         NaN   \n",
       "3        NaN      unknown  ...            NaN              NaN         NaN   \n",
       "4        NaN      unknown  ...            NaN              NaN         NaN   \n",
       "\n",
       "   Unnamed: 22                                        Unnamed: 23 Unnamed: 24  \\\n",
       "0  Source Name                                                URL       URL 2   \n",
       "1          NaN                                                NaN         NaN   \n",
       "2          NaN  https://techcrunch.com/2021/07/05/kaseya-hack-...         NaN   \n",
       "3          NaN  https://www.teiss.co.uk/salvation-army-ransomw...         NaN   \n",
       "4          NaN  https://www.bleepingcomputer.com/news/security...         NaN   \n",
       "\n",
       "  Unnamed: 25 Unnamed: 26 Unnamed: 27 Unnamed: 28  \n",
       "0       URL 3       URL 4       URL 5         #ID  \n",
       "1         NaN         NaN         NaN         NaN  \n",
       "2         NaN         NaN         NaN         359  \n",
       "3         NaN         NaN         NaN         358  \n",
       "4         NaN         NaN         NaN         357  \n",
       "\n",
       "[5 rows x 29 columns]"
      ]
     },
     "execution_count": 4,
     "metadata": {},
     "output_type": "execute_result"
    }
   ],
   "source": [
    "#FILL IN 2nd data gathering and loading method\n",
    "RansomKaggle = pd.read_excel('Copy_of_Ransomware_Attacks.xlsx')\n",
    "RansomKaggle.head()"
   ]
  },
  {
   "cell_type": "markdown",
   "metadata": {},
   "source": [
    "Optional data storing step: You may save your raw dataset files to the local data store before moving to the next step."
   ]
  },
  {
   "cell_type": "code",
   "execution_count": 5,
   "metadata": {
    "scrolled": true
   },
   "outputs": [],
   "source": [
    "#Optional: store the raw data in your local data store\n",
    "## this needs to be freed up if you are testing but the data \n",
    "##from this point on needs to be stable and not dynamic for cleaning and testing. \n",
    "\n",
    "\n",
    "##RansomPost.to_csv('RansomPost_raw_20240305.csv', index=False)\n",
    "##RansomKaggle.to_csv('RansomKaggle_raw_20240305.csv', index=False)"
   ]
  },
  {
   "cell_type": "code",
   "execution_count": 6,
   "metadata": {},
   "outputs": [],
   "source": [
    "##Need to read from the files stored \n",
    "RansomPost_raw = pd.read_csv('RansomPost_raw_20240305.csv')\n",
    "RansomKaggle_raw = pd.read_csv('RansomKaggle_raw_20240305.csv')"
   ]
  },
  {
   "cell_type": "markdown",
   "metadata": {
    "id": "QwSWIVmotLgV"
   },
   "source": [
    "## 2. Assess data\n",
    "\n",
    "Assess the data according to data quality and tidiness metrics using the report below.\n",
    "\n",
    "List **two** data quality issues and **two** tidiness issues. Assess each data issue visually **and** programmatically, then briefly describe the issue you find.  **Make sure you include justifications for the methods you use for the assessment.**"
   ]
  },
  {
   "cell_type": "markdown",
   "metadata": {
    "id": "adaK2iPNzVu4"
   },
   "source": [
    "### Quality Issue 1:"
   ]
  },
  {
   "cell_type": "code",
   "execution_count": 7,
   "metadata": {
    "id": "SpW59kh-zl8d"
   },
   "outputs": [
    {
     "data": {
      "text/plain": [
       "<Figure size 1000x600 with 0 Axes>"
      ]
     },
     "metadata": {},
     "output_type": "display_data"
    },
    {
     "data": {
      "image/png": "[encoded data removed]",
      "text/plain": [
       "<Figure size 640x480 with 1 Axes>"
      ]
     },
     "metadata": {},
     "output_type": "display_data"
    }
   ],
   "source": [
    "#FILL IN - Inspecting the dataframe visually for Ransompost\n",
    "\n",
    "# Assuming data contains the counts for each category\n",
    "data = {\n",
    "    \"America Chung Nam or ACN\": [10, 15, 20, 25],\n",
    "    \"akira\": [5, 10, 15, 20],\n",
    "    \"2024-03-04 16:46:06.185023\": [8, 12, 16, 20],\n",
    "}\n",
    "\n",
    "# Convert the data into DataFrame\n",
    "df = pd.DataFrame(data)\n",
    "\n",
    "# Set figure size\n",
    "plt.figure(figsize=(10, 6))\n",
    "\n",
    "# Plot bar chart\n",
    "df.plot(kind='bar')\n",
    "plt.title('Bar Chart Based on Headers')\n",
    "plt.xlabel('Index')\n",
    "plt.ylabel('Value')\n",
    "\n",
    "# Show plot\n",
    "plt.tight_layout()\n",
    "plt.show()\n"
   ]
  },
  {
   "cell_type": "code",
   "execution_count": 8,
   "metadata": {
    "id": "-qfcocStzsKg"
   },
   "outputs": [
    {
     "data": {
      "text/html": [
       "<div>\n",
       "<style scoped>\n",
       "    .dataframe tbody tr th:only-of-type {\n",
       "        vertical-align: middle;\n",
       "    }\n",
       "\n",
       "    .dataframe tbody tr th {\n",
       "        vertical-align: top;\n",
       "    }\n",
       "\n",
       "    .dataframe thead th {\n",
       "        text-align: right;\n",
       "    }\n",
       "</style>\n",
       "<table border=\"1\" class=\"dataframe\">\n",
       "  <thead>\n",
       "    <tr style=\"text-align: right;\">\n",
       "      <th></th>\n",
       "      <th>DiVal Safety Equipment, Inc.</th>\n",
       "      <th>hunters</th>\n",
       "      <th>2024-03-05 09:49:12.284418</th>\n",
       "    </tr>\n",
       "  </thead>\n",
       "  <tbody>\n",
       "    <tr>\n",
       "      <th>count</th>\n",
       "      <td>10355</td>\n",
       "      <td>10355</td>\n",
       "      <td>10355</td>\n",
       "    </tr>\n",
       "    <tr>\n",
       "      <th>unique</th>\n",
       "      <td>10246</td>\n",
       "      <td>121</td>\n",
       "      <td>10184</td>\n",
       "    </tr>\n",
       "    <tr>\n",
       "      <th>top</th>\n",
       "      <td>emprint.com</td>\n",
       "      <td>lockbit3</td>\n",
       "      <td>2024-01-01 01:01:01.000000</td>\n",
       "    </tr>\n",
       "    <tr>\n",
       "      <th>freq</th>\n",
       "      <td>3</td>\n",
       "      <td>1625</td>\n",
       "      <td>111</td>\n",
       "    </tr>\n",
       "  </tbody>\n",
       "</table>\n",
       "</div>"
      ],
      "text/plain": [
       "       DiVal Safety Equipment, Inc.   hunters  2024-03-05 09:49:12.284418\n",
       "count                         10355     10355                       10355\n",
       "unique                        10246       121                       10184\n",
       "top                     emprint.com  lockbit3  2024-01-01 01:01:01.000000\n",
       "freq                              3      1625                         111"
      ]
     },
     "execution_count": 8,
     "metadata": {},
     "output_type": "execute_result"
    }
   ],
   "source": [
    "#FILL IN - Inspecting the dataframe programmatically\n",
    "\n",
    "RansomPost_raw.describe()"
   ]
  },
  {
   "cell_type": "markdown",
   "metadata": {},
   "source": [
    "Issue and justification: The Ransompost data contains incorrect column names; they should be \"Target,\" \"Group,\" and \"Date\" Additionally, there are formatting issues with the target names, such as \".com\" or \"(Sold).\""
   ]
  },
  {
   "cell_type": "markdown",
   "metadata": {
    "id": "8Be77N4I1AmE"
   },
   "source": [
    "### Quality Issue 2:"
   ]
  },
  {
   "cell_type": "code",
   "execution_count": 9,
   "metadata": {
    "id": "iMhHyiyLM2I3"
   },
   "outputs": [
    {
     "data": {
      "image/png": "[encoded data removed]",
      "text/plain": [
       "<Figure size 1000x600 with 1 Axes>"
      ]
     },
     "metadata": {},
     "output_type": "display_data"
    }
   ],
   "source": [
    "#FILL IN - Inspecting the dataframe visually\n",
    "# Example: Create a bar plot for the top ransomware attacks\n",
    "plt.figure(figsize=(10, 6))\n",
    "sns.countplot(data=RansomKaggle_raw, x='Top ransomware attacks')\n",
    "plt.title('Top Ransomware Attacks')\n",
    "plt.xlabel('Ransomware Attack')\n",
    "plt.ylabel('Frequency')\n",
    "plt.xticks(rotation=45)\n",
    "plt.tight_layout()\n",
    "plt.show()"
   ]
  },
  {
   "cell_type": "code",
   "execution_count": 10,
   "metadata": {
    "id": "bnviRCUI-bb7",
    "scrolled": true
   },
   "outputs": [
    {
     "data": {
      "text/html": [
       "<div>\n",
       "<style scoped>\n",
       "    .dataframe tbody tr th:only-of-type {\n",
       "        vertical-align: middle;\n",
       "    }\n",
       "\n",
       "    .dataframe tbody tr th {\n",
       "        vertical-align: top;\n",
       "    }\n",
       "\n",
       "    .dataframe thead th {\n",
       "        text-align: right;\n",
       "    }\n",
       "</style>\n",
       "<table border=\"1\" class=\"dataframe\">\n",
       "  <thead>\n",
       "    <tr style=\"text-align: right;\">\n",
       "      <th></th>\n",
       "      <th>Top ransomware attacks</th>\n",
       "      <th>Unnamed: 1</th>\n",
       "      <th>Unnamed: 2</th>\n",
       "      <th>Unnamed: 3</th>\n",
       "      <th>Unnamed: 4</th>\n",
       "      <th>Unnamed: 5</th>\n",
       "      <th>Unnamed: 6</th>\n",
       "      <th>Unnamed: 7</th>\n",
       "      <th>Unnamed: 8</th>\n",
       "      <th>Unnamed: 9</th>\n",
       "      <th>...</th>\n",
       "      <th>Unnamed: 19</th>\n",
       "      <th>Unnamed: 20</th>\n",
       "      <th>Unnamed: 21</th>\n",
       "      <th>Unnamed: 22</th>\n",
       "      <th>Unnamed: 23</th>\n",
       "      <th>Unnamed: 24</th>\n",
       "      <th>Unnamed: 25</th>\n",
       "      <th>Unnamed: 26</th>\n",
       "      <th>Unnamed: 27</th>\n",
       "      <th>Unnamed: 28</th>\n",
       "    </tr>\n",
       "  </thead>\n",
       "  <tbody>\n",
       "    <tr>\n",
       "      <th>count</th>\n",
       "      <td>614</td>\n",
       "      <td>110</td>\n",
       "      <td>323</td>\n",
       "      <td>606</td>\n",
       "      <td>614</td>\n",
       "      <td>575</td>\n",
       "      <td>614</td>\n",
       "      <td>220</td>\n",
       "      <td>51</td>\n",
       "      <td>613</td>\n",
       "      <td>...</td>\n",
       "      <td>105</td>\n",
       "      <td>83</td>\n",
       "      <td>114</td>\n",
       "      <td>1</td>\n",
       "      <td>609</td>\n",
       "      <td>255</td>\n",
       "      <td>49</td>\n",
       "      <td>5</td>\n",
       "      <td>3</td>\n",
       "      <td>613</td>\n",
       "    </tr>\n",
       "    <tr>\n",
       "      <th>unique</th>\n",
       "      <td>360</td>\n",
       "      <td>67</td>\n",
       "      <td>184</td>\n",
       "      <td>25</td>\n",
       "      <td>8</td>\n",
       "      <td>224</td>\n",
       "      <td>90</td>\n",
       "      <td>82</td>\n",
       "      <td>3</td>\n",
       "      <td>3</td>\n",
       "      <td>...</td>\n",
       "      <td>8</td>\n",
       "      <td>23</td>\n",
       "      <td>59</td>\n",
       "      <td>1</td>\n",
       "      <td>335</td>\n",
       "      <td>128</td>\n",
       "      <td>25</td>\n",
       "      <td>3</td>\n",
       "      <td>2</td>\n",
       "      <td>359</td>\n",
       "    </tr>\n",
       "    <tr>\n",
       "      <th>top</th>\n",
       "      <td>Acer</td>\n",
       "      <td>Multiple systems</td>\n",
       "      <td>American IT company</td>\n",
       "      <td>government</td>\n",
       "      <td>10</td>\n",
       "      <td>1</td>\n",
       "      <td>unknown</td>\n",
       "      <td>5</td>\n",
       "      <td>cost</td>\n",
       "      <td>unknown</td>\n",
       "      <td>...</td>\n",
       "      <td>2020-12-30 00:00:00</td>\n",
       "      <td>10000+</td>\n",
       "      <td>stolen sensitive ministry information, emails,...</td>\n",
       "      <td>Source Name</td>\n",
       "      <td>https://www.dataprotectionreport.com/2017/05/w...</td>\n",
       "      <td>https://finance.yahoo.com/quote/FSPKF/financia...</td>\n",
       "      <td>https://www.ke.com.pk/our-company/who-we-are/</td>\n",
       "      <td>https://incfact.com/company/colonialpipeline-a...</td>\n",
       "      <td>https://finance.yahoo.com/quote/CTSH/financial...</td>\n",
       "      <td>180</td>\n",
       "    </tr>\n",
       "    <tr>\n",
       "      <th>freq</th>\n",
       "      <td>2</td>\n",
       "      <td>4</td>\n",
       "      <td>4</td>\n",
       "      <td>103</td>\n",
       "      <td>167</td>\n",
       "      <td>90</td>\n",
       "      <td>335</td>\n",
       "      <td>12</td>\n",
       "      <td>48</td>\n",
       "      <td>446</td>\n",
       "      <td>...</td>\n",
       "      <td>82</td>\n",
       "      <td>16</td>\n",
       "      <td>4</td>\n",
       "      <td>1</td>\n",
       "      <td>24</td>\n",
       "      <td>2</td>\n",
       "      <td>2</td>\n",
       "      <td>2</td>\n",
       "      <td>2</td>\n",
       "      <td>2</td>\n",
       "    </tr>\n",
       "  </tbody>\n",
       "</table>\n",
       "<p>4 rows × 29 columns</p>\n",
       "</div>"
      ],
      "text/plain": [
       "       Top ransomware attacks        Unnamed: 1           Unnamed: 2  \\\n",
       "count                     614               110                  323   \n",
       "unique                    360                67                  184   \n",
       "top                      Acer  Multiple systems  American IT company   \n",
       "freq                        2                 4                    4   \n",
       "\n",
       "        Unnamed: 3 Unnamed: 4 Unnamed: 5 Unnamed: 6 Unnamed: 7 Unnamed: 8  \\\n",
       "count          606        614        575        614        220         51   \n",
       "unique          25          8        224         90         82          3   \n",
       "top     government         10          1    unknown          5       cost   \n",
       "freq           103        167         90        335         12         48   \n",
       "\n",
       "       Unnamed: 9  ...          Unnamed: 19 Unnamed: 20  \\\n",
       "count         613  ...                  105          83   \n",
       "unique          3  ...                    8          23   \n",
       "top       unknown  ...  2020-12-30 00:00:00      10000+   \n",
       "freq          446  ...                   82          16   \n",
       "\n",
       "                                              Unnamed: 21  Unnamed: 22  \\\n",
       "count                                                 114            1   \n",
       "unique                                                 59            1   \n",
       "top     stolen sensitive ministry information, emails,...  Source Name   \n",
       "freq                                                    4            1   \n",
       "\n",
       "                                              Unnamed: 23  \\\n",
       "count                                                 609   \n",
       "unique                                                335   \n",
       "top     https://www.dataprotectionreport.com/2017/05/w...   \n",
       "freq                                                   24   \n",
       "\n",
       "                                              Unnamed: 24  \\\n",
       "count                                                 255   \n",
       "unique                                                128   \n",
       "top     https://finance.yahoo.com/quote/FSPKF/financia...   \n",
       "freq                                                    2   \n",
       "\n",
       "                                          Unnamed: 25  \\\n",
       "count                                              49   \n",
       "unique                                             25   \n",
       "top     https://www.ke.com.pk/our-company/who-we-are/   \n",
       "freq                                                2   \n",
       "\n",
       "                                              Unnamed: 26  \\\n",
       "count                                                   5   \n",
       "unique                                                  3   \n",
       "top     https://incfact.com/company/colonialpipeline-a...   \n",
       "freq                                                    2   \n",
       "\n",
       "                                              Unnamed: 27 Unnamed: 28  \n",
       "count                                                   3         613  \n",
       "unique                                                  2         359  \n",
       "top     https://finance.yahoo.com/quote/CTSH/financial...         180  \n",
       "freq                                                    2           2  \n",
       "\n",
       "[4 rows x 29 columns]"
      ]
     },
     "execution_count": 10,
     "metadata": {},
     "output_type": "execute_result"
    }
   ],
   "source": [
    "#FILL IN - Inspecting the dataframe programmatically\n",
    "RansomKaggle_raw.describe()"
   ]
  },
  {
   "cell_type": "markdown",
   "metadata": {},
   "source": [
    "Issue and Justification: The RansomKaggle dataset contains a significant amount of empty data, and most columns are unnecessary. Column names need adjustment to eliminate \"Unnamed 1-28.\" Row 0 should comprise all headers, and everything in row 1 should be removed. The desired information from the RansomKaggle data includes the target, sector, year, month (in datetime format), all entries with USA as the location, and the name of the ransomware groups. This streamlined approach will discard unnecessary data, facilitating trend identification during analysis."
   ]
  },
  {
   "cell_type": "markdown",
   "metadata": {
    "id": "lXhGiYyiwwKN"
   },
   "source": [
    "### Tidiness Issue 1:"
   ]
  },
  {
   "cell_type": "code",
   "execution_count": 11,
   "metadata": {
    "id": "fleC5rORI0Xl"
   },
   "outputs": [
    {
     "data": {
      "image/png": "[encoded data removed]",
      "text/plain": [
       "<Figure size 1000x600 with 2 Axes>"
      ]
     },
     "metadata": {},
     "output_type": "display_data"
    }
   ],
   "source": [
    "#FILL IN - Inspecting the dataframe visually\n",
    "\n",
    "plt.figure(figsize=(10, 6))\n",
    "sns.heatmap(RansomPost_raw.isnull(), cmap='viridis')\n",
    "plt.title('Missing Values Heatmap')\n",
    "plt.show()\n"
   ]
  },
  {
   "cell_type": "code",
   "execution_count": 12,
   "metadata": {
    "id": "BTuQw7Rbsio4"
   },
   "outputs": [
    {
     "data": {
      "text/plain": [
       "0"
      ]
     },
     "execution_count": 12,
     "metadata": {},
     "output_type": "execute_result"
    }
   ],
   "source": [
    "#FILL IN - Inspecting the dataframe programmatically\n",
    "\n",
    "num_duplicates = RansomPost_raw.duplicated().sum()\n",
    "num_duplicates"
   ]
  },
  {
   "cell_type": "markdown",
   "metadata": {},
   "source": [
    "Issue and justification: In RansomPost we do not see any missing values or duplicates which is good. "
   ]
  },
  {
   "cell_type": "markdown",
   "metadata": {
    "id": "4ffMoRGSwzYj"
   },
   "source": [
    "### Tidiness Issue 2: "
   ]
  },
  {
   "cell_type": "code",
   "execution_count": 13,
   "metadata": {
    "id": "XUpeoqokw5Qt"
   },
   "outputs": [
    {
     "data": {
      "image/png": "[encoded data removed]",
      "text/plain": [
       "<Figure size 1000x600 with 2 Axes>"
      ]
     },
     "metadata": {},
     "output_type": "display_data"
    }
   ],
   "source": [
    "#FILL IN - Inspecting the dataframe visually\n",
    "\n",
    "# Plot heatmap of missing values\n",
    "plt.figure(figsize=(10, 6))\n",
    "sns.heatmap(RansomKaggle_raw.isnull(), cmap='viridis')\n",
    "plt.title('Missing Values Heatmap')\n",
    "plt.show()"
   ]
  },
  {
   "cell_type": "code",
   "execution_count": 14,
   "metadata": {
    "id": "c8JK4DoXxtFA"
   },
   "outputs": [
    {
     "data": {
      "text/plain": [
       "255"
      ]
     },
     "execution_count": 14,
     "metadata": {},
     "output_type": "execute_result"
    }
   ],
   "source": [
    "#FILL IN - Inspecting the dataframe programmatically\n",
    "\n",
    "Kaggle_num_duplicates = RansomKaggle_raw.duplicated().sum()\n",
    "Kaggle_num_duplicates"
   ]
  },
  {
   "cell_type": "code",
   "execution_count": 15,
   "metadata": {},
   "outputs": [
    {
     "name": "stdout",
     "output_type": "stream",
     "text": [
      "Number of duplicate rows: 0\n",
      "Duplicate rows:\n",
      "    Top ransomware attacks                     Unnamed: 1  \\\n",
      "361                    NaN                            NaN   \n",
      "362          Bank of China                            NaN   \n",
      "363                   CNPC  China National Petroleum Corp   \n",
      "364                 Toyota                            NaN   \n",
      "365                  Shell                            NaN   \n",
      "..                     ...                            ...   \n",
      "611    Police departments                             NaN   \n",
      "612           Greece banks                            NaN   \n",
      "613     Multiple law firms                            NaN   \n",
      "614       New Hampshire PD                            NaN   \n",
      "615          Apple devices                            NaN   \n",
      "\n",
      "                                            Unnamed: 2  Unnamed: 3 Unnamed: 4  \\\n",
      "361                                                NaN         NaN        NaN   \n",
      "362                                                NaN     finance        300   \n",
      "363                                                NaN      energy        300   \n",
      "364                                                NaN  automotive        300   \n",
      "365  a British-Dutch oil & gas company & the world'...      energy        300   \n",
      "..                                                 ...         ...        ...   \n",
      "611                                                NaN  government          1   \n",
      "612                                                NaN     finance          1   \n",
      "613                                                NaN       legal          1   \n",
      "614                                                NaN  government          1   \n",
      "615                                                NaN       mixed          1   \n",
      "\n",
      "    Unnamed: 5            Unnamed: 6 Unnamed: 7 Unnamed: 8 Unnamed: 9  ...  \\\n",
      "361        NaN                   NaN        NaN        NaN        NaN  ...   \n",
      "362     131000  $300-$600 per system        NaN        NaN    unknown  ...   \n",
      "363     399000  $300-$600 per system        NaN        NaN    unknown  ...   \n",
      "364  247170.58               unknown        NaN        NaN    unknown  ...   \n",
      "365     180543               unknown        NaN        NaN    unknown  ...   \n",
      "..         ...                   ...        ...        ...        ...  ...   \n",
      "611          1  $300-$500 per system          5        NaN    unknown  ...   \n",
      "612          1               unknown        NaN        NaN    unknown  ...   \n",
      "613          1               unknown        NaN        NaN    unknown  ...   \n",
      "614          1           $2000-$3000      0.003       cost    unknown  ...   \n",
      "615          1       $100 per device          5        NaN    unknown  ...   \n",
      "\n",
      "             Unnamed: 19 Unnamed: 20  \\\n",
      "361                  NaN         NaN   \n",
      "362                  NaN         NaN   \n",
      "363                  NaN         NaN   \n",
      "364  2021-03-30 00:00:00         NaN   \n",
      "365  2020-12-30 00:00:00         NaN   \n",
      "..                   ...         ...   \n",
      "611                  NaN         NaN   \n",
      "612                  NaN         NaN   \n",
      "613                  NaN         NaN   \n",
      "614                  NaN         NaN   \n",
      "615                  NaN         NaN   \n",
      "\n",
      "                                           Unnamed: 21 Unnamed: 22  \\\n",
      "361                                                NaN         NaN   \n",
      "362                                                NaN         NaN   \n",
      "363                                                NaN         NaN   \n",
      "364                      cyber attack, not ransomeware         NaN   \n",
      "365                                                NaN         NaN   \n",
      "..                                                 ...         ...   \n",
      "611  added the ransom amts of attacks across 3-4 po...         NaN   \n",
      "612                                                NaN         NaN   \n",
      "613                                                NaN         NaN   \n",
      "614                      repair costs were $2000-$3000         NaN   \n",
      "615  $100 per device or $50 per device. Payment was...         NaN   \n",
      "\n",
      "                                           Unnamed: 23  \\\n",
      "361                                                NaN   \n",
      "362  https://www.dataprotectionreport.com/2017/05/w...   \n",
      "363            https://www.bbc.com/news/world-39919249   \n",
      "364  https://www.zdnet.com/article/toyota-australia...   \n",
      "365  https://www.bleepingcomputer.com/news/security...   \n",
      "..                                                 ...   \n",
      "611  https://www.reuters.com/article/us-usa-cyber-r...   \n",
      "612  https://www.dw.com/en/greece-says-hackers-hit-...   \n",
      "613  https://resources.infosecinstitute.com/topic/r...   \n",
      "614  https://www.nbcnews.com/tech/security/virus-wi...   \n",
      "615  https://nakedsecurity.sophos.com/2014/05/27/ap...   \n",
      "\n",
      "                                           Unnamed: 24 Unnamed: 25  \\\n",
      "361                                                NaN         NaN   \n",
      "362                                                NaN         NaN   \n",
      "363                                                NaN         NaN   \n",
      "364            https://finance.yahoo.com/quote/TM?p=TM         NaN   \n",
      "365  https://finance.yahoo.com/quote/RDS-A/financia...         NaN   \n",
      "..                                                 ...         ...   \n",
      "611  https://www.darkreading.com/attacks-breaches/p...         NaN   \n",
      "612                                                NaN         NaN   \n",
      "613                                                NaN         NaN   \n",
      "614                                                NaN         NaN   \n",
      "615                                                NaN         NaN   \n",
      "\n",
      "    Unnamed: 26 Unnamed: 27 Unnamed: 28  \n",
      "361         NaN         NaN         NaN  \n",
      "362         NaN         NaN         218  \n",
      "363         NaN         NaN         216  \n",
      "364         NaN         NaN         191  \n",
      "365         NaN         NaN         182  \n",
      "..          ...         ...         ...  \n",
      "611         NaN         NaN          10  \n",
      "612         NaN         NaN           9  \n",
      "613         NaN         NaN           8  \n",
      "614         NaN         NaN           4  \n",
      "615         NaN         NaN           3  \n",
      "\n",
      "[255 rows x 29 columns]\n"
     ]
    }
   ],
   "source": [
    "if Kaggle_num_duplicates > 0:\n",
    "    print(\"Number of duplicate rows:\", num_duplicates)\n",
    "    print(\"Duplicate rows:\")\n",
    "    print(RansomKaggle_raw[RansomKaggle.duplicated()])"
   ]
  },
  {
   "cell_type": "markdown",
   "metadata": {},
   "source": [
    "Issue and justification: In RansomKaggle we see significan empty data and 255 duplicates that we need to investigate further. "
   ]
  },
  {
   "cell_type": "markdown",
   "metadata": {
    "id": "D6gmLnBttpCh"
   },
   "source": [
    "## 3. Clean data\n",
    "Clean the data to solve the 4 issues corresponding to data quality and tidiness found in the assessing step. **Make sure you include justifications for your cleaning decisions.**\n",
    "\n",
    "After the cleaning for each issue, please use **either** the visually or programatical method to validate the cleaning was succesful.\n",
    "\n",
    "At this stage, you are also expected to remove variables that are unnecessary for your analysis and combine your datasets. Depending on your datasets, you may choose to perform variable combination and elimination before or after the cleaning stage. Your dataset must have **at least** 4 variables after combining the data."
   ]
  },
  {
   "cell_type": "code",
   "execution_count": 16,
   "metadata": {},
   "outputs": [],
   "source": [
    "# FILL IN - Make copies of the datasets to ensure the raw dataframes \n",
    "\n",
    "#Make copy of data set to work on cleaned documents\n",
    "\n",
    "RansomPost_cleaned = RansomPost_raw.copy()\n",
    "RansomKaggle_cleaned = RansomKaggle_raw.copy()"
   ]
  },
  {
   "cell_type": "markdown",
   "metadata": {
    "id": "n_DAUbJrymBL"
   },
   "source": [
    "### **Tidiness Issue 1: RansomPost (Column Names)"
   ]
  },
  {
   "cell_type": "code",
   "execution_count": 17,
   "metadata": {
    "id": "5Yfb-Yu5MTuE"
   },
   "outputs": [],
   "source": [
    "#Apply the cleaning strategy\n",
    "# Renaming the columns Target, Group and Date\n",
    "RansomPost_cleaned.columns = ['Target', 'Group', 'Date']  \n"
   ]
  },
  {
   "cell_type": "code",
   "execution_count": 18,
   "metadata": {
    "id": "ionB2sRaMUmY",
    "scrolled": true
   },
   "outputs": [
    {
     "data": {
      "text/html": [
       "<div>\n",
       "<style scoped>\n",
       "    .dataframe tbody tr th:only-of-type {\n",
       "        vertical-align: middle;\n",
       "    }\n",
       "\n",
       "    .dataframe tbody tr th {\n",
       "        vertical-align: top;\n",
       "    }\n",
       "\n",
       "    .dataframe thead th {\n",
       "        text-align: right;\n",
       "    }\n",
       "</style>\n",
       "<table border=\"1\" class=\"dataframe\">\n",
       "  <thead>\n",
       "    <tr style=\"text-align: right;\">\n",
       "      <th></th>\n",
       "      <th>Target</th>\n",
       "      <th>Group</th>\n",
       "      <th>Date</th>\n",
       "    </tr>\n",
       "  </thead>\n",
       "  <tbody>\n",
       "    <tr>\n",
       "      <th>0</th>\n",
       "      <td>Future Generations Foundation</td>\n",
       "      <td>meow</td>\n",
       "      <td>2024-03-05 06:42:21.719281</td>\n",
       "    </tr>\n",
       "    <tr>\n",
       "      <th>1</th>\n",
       "      <td>se.com\\$$33.5B\\France\\1.5TB\\&amp;lt;1%DISCLOSED\\DA...</td>\n",
       "      <td>cactus</td>\n",
       "      <td>2024-03-04 22:42:04.403377</td>\n",
       "    </tr>\n",
       "    <tr>\n",
       "      <th>2</th>\n",
       "      <td>www.dismogas.com</td>\n",
       "      <td>stormous</td>\n",
       "      <td>2024-03-04 18:44:34.272632</td>\n",
       "    </tr>\n",
       "    <tr>\n",
       "      <th>3</th>\n",
       "      <td>www.everplast.com.br</td>\n",
       "      <td>stormous</td>\n",
       "      <td>2024-03-04 18:44:33.107976</td>\n",
       "    </tr>\n",
       "    <tr>\n",
       "      <th>4</th>\n",
       "      <td>America Chung Nam or ACN</td>\n",
       "      <td>akira</td>\n",
       "      <td>2024-03-04 16:46:06.185023</td>\n",
       "    </tr>\n",
       "  </tbody>\n",
       "</table>\n",
       "</div>"
      ],
      "text/plain": [
       "                                              Target     Group  \\\n",
       "0                      Future Generations Foundation      meow   \n",
       "1  se.com\\$$33.5B\\France\\1.5TB\\&lt;1%DISCLOSED\\DA...    cactus   \n",
       "2                                   www.dismogas.com  stormous   \n",
       "3                               www.everplast.com.br  stormous   \n",
       "4                           America Chung Nam or ACN     akira   \n",
       "\n",
       "                         Date  \n",
       "0  2024-03-05 06:42:21.719281  \n",
       "1  2024-03-04 22:42:04.403377  \n",
       "2  2024-03-04 18:44:34.272632  \n",
       "3  2024-03-04 18:44:33.107976  \n",
       "4  2024-03-04 16:46:06.185023  "
      ]
     },
     "execution_count": 18,
     "metadata": {},
     "output_type": "execute_result"
    }
   ],
   "source": [
    "#Validate the cleaning was successful\n",
    "# Confirming the changes by displaying the first few rows\n",
    "RansomPost_cleaned.head()"
   ]
  },
  {
   "cell_type": "markdown",
   "metadata": {},
   "source": [
    "Justification: Changing the names to be more meaningful"
   ]
  },
  {
   "cell_type": "markdown",
   "metadata": {
    "id": "n_DAUbJrymBL"
   },
   "source": [
    "### **Quality Issue 2: RansomPost (Inaccuracies and Missing Data)"
   ]
  },
  {
   "cell_type": "code",
   "execution_count": 19,
   "metadata": {
    "id": "5Yfb-Yu5MTuE"
   },
   "outputs": [],
   "source": [
    "#Apply the cleaning strategy\n",
    "\n",
    "# For 'Date', it might be critical not to impute or fill, so consider dropping if date is essential\n",
    "RansomPost_cleaned.dropna(subset=['Date'], inplace=True)\n",
    "\n",
    "# If 'Target' or 'Group' can have placeholder values for missing data\n",
    "RansomPost_cleaned['Target'].fillna('Unknown', inplace=True)\n",
    "RansomPost_cleaned['Group'].fillna('Unknown', inplace=True)"
   ]
  },
  {
   "cell_type": "code",
   "execution_count": 20,
   "metadata": {
    "id": "ionB2sRaMUmY"
   },
   "outputs": [
    {
     "data": {
      "text/html": [
       "<div>\n",
       "<style scoped>\n",
       "    .dataframe tbody tr th:only-of-type {\n",
       "        vertical-align: middle;\n",
       "    }\n",
       "\n",
       "    .dataframe tbody tr th {\n",
       "        vertical-align: top;\n",
       "    }\n",
       "\n",
       "    .dataframe thead th {\n",
       "        text-align: right;\n",
       "    }\n",
       "</style>\n",
       "<table border=\"1\" class=\"dataframe\">\n",
       "  <thead>\n",
       "    <tr style=\"text-align: right;\">\n",
       "      <th></th>\n",
       "      <th>Target</th>\n",
       "      <th>Group</th>\n",
       "      <th>Date</th>\n",
       "    </tr>\n",
       "  </thead>\n",
       "  <tbody>\n",
       "    <tr>\n",
       "      <th>0</th>\n",
       "      <td>Future Generations Foundation</td>\n",
       "      <td>meow</td>\n",
       "      <td>2024-03-05 06:42:21.719281</td>\n",
       "    </tr>\n",
       "    <tr>\n",
       "      <th>1</th>\n",
       "      <td>se.com\\$$33.5B\\France\\1.5TB\\&amp;lt;1%DISCLOSED\\DA...</td>\n",
       "      <td>cactus</td>\n",
       "      <td>2024-03-04 22:42:04.403377</td>\n",
       "    </tr>\n",
       "    <tr>\n",
       "      <th>2</th>\n",
       "      <td>www.dismogas.com</td>\n",
       "      <td>stormous</td>\n",
       "      <td>2024-03-04 18:44:34.272632</td>\n",
       "    </tr>\n",
       "    <tr>\n",
       "      <th>3</th>\n",
       "      <td>www.everplast.com.br</td>\n",
       "      <td>stormous</td>\n",
       "      <td>2024-03-04 18:44:33.107976</td>\n",
       "    </tr>\n",
       "    <tr>\n",
       "      <th>4</th>\n",
       "      <td>America Chung Nam or ACN</td>\n",
       "      <td>akira</td>\n",
       "      <td>2024-03-04 16:46:06.185023</td>\n",
       "    </tr>\n",
       "  </tbody>\n",
       "</table>\n",
       "</div>"
      ],
      "text/plain": [
       "                                              Target     Group  \\\n",
       "0                      Future Generations Foundation      meow   \n",
       "1  se.com\\$$33.5B\\France\\1.5TB\\&lt;1%DISCLOSED\\DA...    cactus   \n",
       "2                                   www.dismogas.com  stormous   \n",
       "3                               www.everplast.com.br  stormous   \n",
       "4                           America Chung Nam or ACN     akira   \n",
       "\n",
       "                         Date  \n",
       "0  2024-03-05 06:42:21.719281  \n",
       "1  2024-03-04 22:42:04.403377  \n",
       "2  2024-03-04 18:44:34.272632  \n",
       "3  2024-03-04 18:44:33.107976  \n",
       "4  2024-03-04 16:46:06.185023  "
      ]
     },
     "execution_count": 20,
     "metadata": {},
     "output_type": "execute_result"
    }
   ],
   "source": [
    "#Validate the cleaning was successful\n",
    "RansomPost_cleaned.head()"
   ]
  },
  {
   "cell_type": "markdown",
   "metadata": {},
   "source": [
    "Justification: Dropping and filling data if there is any missing data"
   ]
  },
  {
   "cell_type": "markdown",
   "metadata": {
    "id": "n_DAUbJrymBL"
   },
   "source": [
    "### **Quality Issue 3: RansomPost (Removing Duplicates if any)"
   ]
  },
  {
   "cell_type": "code",
   "execution_count": 21,
   "metadata": {
    "id": "7zW8O5yx4Y9O"
   },
   "outputs": [],
   "source": [
    "#Apply the cleaning strategy\n",
    "# Remove duplicate rows based on all three columns\n",
    "RansomPost_cleaned = RansomPost_cleaned.drop_duplicates(subset=['Target', 'Group', 'Date'])"
   ]
  },
  {
   "cell_type": "code",
   "execution_count": 22,
   "metadata": {
    "id": "q6I_Sr7lxXi5",
    "scrolled": true
   },
   "outputs": [
    {
     "name": "stdout",
     "output_type": "stream",
     "text": [
      "<class 'pandas.core.frame.DataFrame'>\n",
      "Int64Index: 10355 entries, 0 to 10354\n",
      "Data columns (total 3 columns):\n",
      " #   Column  Non-Null Count  Dtype \n",
      "---  ------  --------------  ----- \n",
      " 0   Target  10355 non-null  object\n",
      " 1   Group   10355 non-null  object\n",
      " 2   Date    10355 non-null  object\n",
      "dtypes: object(3)\n",
      "memory usage: 323.6+ KB\n"
     ]
    }
   ],
   "source": [
    "#Validate the cleaning was successful\n",
    "RansomPost_cleaned.info()"
   ]
  },
  {
   "cell_type": "markdown",
   "metadata": {},
   "source": [
    "Justification: Dropping duplicates if there are any in the data"
   ]
  },
  {
   "cell_type": "markdown",
   "metadata": {
    "id": "n_DAUbJrymBL"
   },
   "source": [
    "### **Quality Issue 3: RansomPost (Standardize Date Formats)"
   ]
  },
  {
   "cell_type": "code",
   "execution_count": 23,
   "metadata": {
    "id": "7zW8O5yx4Y9O"
   },
   "outputs": [],
   "source": [
    "#Apply the cleaning strategy\n",
    "# Convert the 'Date' column to datetime format\n",
    "RansomPost_cleaned['Date'] = pd.to_datetime(RansomPost_cleaned['Date'])"
   ]
  },
  {
   "cell_type": "code",
   "execution_count": 24,
   "metadata": {
    "id": "q6I_Sr7lxXi5",
    "scrolled": false
   },
   "outputs": [
    {
     "data": {
      "text/html": [
       "<div>\n",
       "<style scoped>\n",
       "    .dataframe tbody tr th:only-of-type {\n",
       "        vertical-align: middle;\n",
       "    }\n",
       "\n",
       "    .dataframe tbody tr th {\n",
       "        vertical-align: top;\n",
       "    }\n",
       "\n",
       "    .dataframe thead th {\n",
       "        text-align: right;\n",
       "    }\n",
       "</style>\n",
       "<table border=\"1\" class=\"dataframe\">\n",
       "  <thead>\n",
       "    <tr style=\"text-align: right;\">\n",
       "      <th></th>\n",
       "      <th>Target</th>\n",
       "      <th>Group</th>\n",
       "      <th>Date</th>\n",
       "    </tr>\n",
       "  </thead>\n",
       "  <tbody>\n",
       "    <tr>\n",
       "      <th>0</th>\n",
       "      <td>Future Generations Foundation</td>\n",
       "      <td>meow</td>\n",
       "      <td>2024-03-05 06:42:21.719281</td>\n",
       "    </tr>\n",
       "    <tr>\n",
       "      <th>1</th>\n",
       "      <td>se.com\\$$33.5B\\France\\1.5TB\\&amp;lt;1%DISCLOSED\\DA...</td>\n",
       "      <td>cactus</td>\n",
       "      <td>2024-03-04 22:42:04.403377</td>\n",
       "    </tr>\n",
       "    <tr>\n",
       "      <th>2</th>\n",
       "      <td>www.dismogas.com</td>\n",
       "      <td>stormous</td>\n",
       "      <td>2024-03-04 18:44:34.272632</td>\n",
       "    </tr>\n",
       "    <tr>\n",
       "      <th>3</th>\n",
       "      <td>www.everplast.com.br</td>\n",
       "      <td>stormous</td>\n",
       "      <td>2024-03-04 18:44:33.107976</td>\n",
       "    </tr>\n",
       "    <tr>\n",
       "      <th>4</th>\n",
       "      <td>America Chung Nam or ACN</td>\n",
       "      <td>akira</td>\n",
       "      <td>2024-03-04 16:46:06.185023</td>\n",
       "    </tr>\n",
       "  </tbody>\n",
       "</table>\n",
       "</div>"
      ],
      "text/plain": [
       "                                              Target     Group  \\\n",
       "0                      Future Generations Foundation      meow   \n",
       "1  se.com\\$$33.5B\\France\\1.5TB\\&lt;1%DISCLOSED\\DA...    cactus   \n",
       "2                                   www.dismogas.com  stormous   \n",
       "3                               www.everplast.com.br  stormous   \n",
       "4                           America Chung Nam or ACN     akira   \n",
       "\n",
       "                        Date  \n",
       "0 2024-03-05 06:42:21.719281  \n",
       "1 2024-03-04 22:42:04.403377  \n",
       "2 2024-03-04 18:44:34.272632  \n",
       "3 2024-03-04 18:44:33.107976  \n",
       "4 2024-03-04 16:46:06.185023  "
      ]
     },
     "execution_count": 24,
     "metadata": {},
     "output_type": "execute_result"
    }
   ],
   "source": [
    "#Validate the cleaning was successful\n",
    "RansomPost_cleaned.head()"
   ]
  },
  {
   "cell_type": "markdown",
   "metadata": {},
   "source": [
    "Justification: Change of Date to Date time"
   ]
  },
  {
   "cell_type": "markdown",
   "metadata": {
    "id": "n_DAUbJrymBL"
   },
   "source": [
    "### **Quality Issue 4: RansomPost (Removing Unnecessary Characters)"
   ]
  },
  {
   "cell_type": "code",
   "execution_count": 25,
   "metadata": {
    "id": "7zW8O5yx4Y9O"
   },
   "outputs": [],
   "source": [
    "#Apply the cleaning strategy\n",
    "# Remove \"http://\", \"https://\", and \"www.\" from the beginning of strings in the 'Target' column\n",
    "RansomPost_cleaned['Target'] = RansomPost_cleaned['Target'].str.replace(r'^(https?://)?(www\\.)?', '', regex=True)\n",
    "\n",
    "# Split the 'Target' column by '\\' and select the first part\n",
    "RansomPost_cleaned['Target'] = RansomPost_cleaned['Target'].str.split(r'\\\\', n=1).str[0]\n"
   ]
  },
  {
   "cell_type": "code",
   "execution_count": 26,
   "metadata": {
    "id": "q6I_Sr7lxXi5",
    "scrolled": false
   },
   "outputs": [
    {
     "data": {
      "text/html": [
       "<div>\n",
       "<style scoped>\n",
       "    .dataframe tbody tr th:only-of-type {\n",
       "        vertical-align: middle;\n",
       "    }\n",
       "\n",
       "    .dataframe tbody tr th {\n",
       "        vertical-align: top;\n",
       "    }\n",
       "\n",
       "    .dataframe thead th {\n",
       "        text-align: right;\n",
       "    }\n",
       "</style>\n",
       "<table border=\"1\" class=\"dataframe\">\n",
       "  <thead>\n",
       "    <tr style=\"text-align: right;\">\n",
       "      <th></th>\n",
       "      <th>Target</th>\n",
       "      <th>Group</th>\n",
       "      <th>Date</th>\n",
       "    </tr>\n",
       "  </thead>\n",
       "  <tbody>\n",
       "    <tr>\n",
       "      <th>0</th>\n",
       "      <td>Future Generations Foundation</td>\n",
       "      <td>meow</td>\n",
       "      <td>2024-03-05 06:42:21.719281</td>\n",
       "    </tr>\n",
       "    <tr>\n",
       "      <th>1</th>\n",
       "      <td>se.com</td>\n",
       "      <td>cactus</td>\n",
       "      <td>2024-03-04 22:42:04.403377</td>\n",
       "    </tr>\n",
       "    <tr>\n",
       "      <th>2</th>\n",
       "      <td>dismogas.com</td>\n",
       "      <td>stormous</td>\n",
       "      <td>2024-03-04 18:44:34.272632</td>\n",
       "    </tr>\n",
       "    <tr>\n",
       "      <th>3</th>\n",
       "      <td>everplast.com.br</td>\n",
       "      <td>stormous</td>\n",
       "      <td>2024-03-04 18:44:33.107976</td>\n",
       "    </tr>\n",
       "    <tr>\n",
       "      <th>4</th>\n",
       "      <td>America Chung Nam or ACN</td>\n",
       "      <td>akira</td>\n",
       "      <td>2024-03-04 16:46:06.185023</td>\n",
       "    </tr>\n",
       "  </tbody>\n",
       "</table>\n",
       "</div>"
      ],
      "text/plain": [
       "                          Target     Group                       Date\n",
       "0  Future Generations Foundation      meow 2024-03-05 06:42:21.719281\n",
       "1                         se.com    cactus 2024-03-04 22:42:04.403377\n",
       "2                   dismogas.com  stormous 2024-03-04 18:44:34.272632\n",
       "3               everplast.com.br  stormous 2024-03-04 18:44:33.107976\n",
       "4       America Chung Nam or ACN     akira 2024-03-04 16:46:06.185023"
      ]
     },
     "execution_count": 26,
     "metadata": {},
     "output_type": "execute_result"
    }
   ],
   "source": [
    "#Validate the cleaning was successful\n",
    "RansomPost_cleaned.head()"
   ]
  },
  {
   "cell_type": "markdown",
   "metadata": {},
   "source": [
    "Justification: Need to remove unnecessary Characters in the Target Collumn"
   ]
  },
  {
   "cell_type": "markdown",
   "metadata": {
    "id": "o51Bt8kwyTzk"
   },
   "source": [
    "### **Tidiness Issue 1: RansomKaggle (Correcting Column Names)**"
   ]
  },
  {
   "cell_type": "code",
   "execution_count": 27,
   "metadata": {
    "id": "7zW8O5yx4Y9O"
   },
   "outputs": [],
   "source": [
    "#Apply the cleaning strategy\n",
    "# Set the first row as the column names and remove the first row\n",
    "RansomKaggle_cleaned.columns = RansomKaggle_cleaned.iloc[0]\n",
    "RansomKaggle_cleaned = RansomKaggle_cleaned[1:]\n",
    "\n",
    "# Reset the index\n",
    "RansomKaggle_cleaned.reset_index(drop=True, inplace=True)\n"
   ]
  },
  {
   "cell_type": "code",
   "execution_count": 28,
   "metadata": {
    "id": "q6I_Sr7lxXi5"
   },
   "outputs": [
    {
     "data": {
      "text/html": [
       "<div>\n",
       "<style scoped>\n",
       "    .dataframe tbody tr th:only-of-type {\n",
       "        vertical-align: middle;\n",
       "    }\n",
       "\n",
       "    .dataframe tbody tr th {\n",
       "        vertical-align: top;\n",
       "    }\n",
       "\n",
       "    .dataframe thead th {\n",
       "        text-align: right;\n",
       "    }\n",
       "</style>\n",
       "<table border=\"1\" class=\"dataframe\">\n",
       "  <thead>\n",
       "    <tr style=\"text-align: right;\">\n",
       "      <th></th>\n",
       "      <th>Target</th>\n",
       "      <th>AKA</th>\n",
       "      <th>description</th>\n",
       "      <th>sector</th>\n",
       "      <th>organisation size</th>\n",
       "      <th>revenue</th>\n",
       "      <th>cost</th>\n",
       "      <th>ransom cost</th>\n",
       "      <th>data note</th>\n",
       "      <th>ransom paid</th>\n",
       "      <th>...</th>\n",
       "      <th>revenue as of</th>\n",
       "      <th>no of employees</th>\n",
       "      <th>Data Note</th>\n",
       "      <th>Source Name</th>\n",
       "      <th>URL</th>\n",
       "      <th>URL 2</th>\n",
       "      <th>URL 3</th>\n",
       "      <th>URL 4</th>\n",
       "      <th>URL 5</th>\n",
       "      <th>#ID</th>\n",
       "    </tr>\n",
       "  </thead>\n",
       "  <tbody>\n",
       "    <tr>\n",
       "      <th>0</th>\n",
       "      <td>display label</td>\n",
       "      <td>NaN</td>\n",
       "      <td>NaN</td>\n",
       "      <td>NaN</td>\n",
       "      <td>1,5,10,25,100,300</td>\n",
       "      <td>$USD million</td>\n",
       "      <td>display label</td>\n",
       "      <td>NaN</td>\n",
       "      <td>NaN</td>\n",
       "      <td>NaN</td>\n",
       "      <td>...</td>\n",
       "      <td>NaN</td>\n",
       "      <td>NaN</td>\n",
       "      <td>NaN</td>\n",
       "      <td>NaN</td>\n",
       "      <td>NaN</td>\n",
       "      <td>NaN</td>\n",
       "      <td>NaN</td>\n",
       "      <td>NaN</td>\n",
       "      <td>NaN</td>\n",
       "      <td>NaN</td>\n",
       "    </tr>\n",
       "    <tr>\n",
       "      <th>1</th>\n",
       "      <td>Kaseya</td>\n",
       "      <td>NaN</td>\n",
       "      <td>NaN</td>\n",
       "      <td>tech</td>\n",
       "      <td>300</td>\n",
       "      <td>300</td>\n",
       "      <td>70</td>\n",
       "      <td>70</td>\n",
       "      <td>NaN</td>\n",
       "      <td>unknown</td>\n",
       "      <td>...</td>\n",
       "      <td>NaN</td>\n",
       "      <td>NaN</td>\n",
       "      <td>NaN</td>\n",
       "      <td>NaN</td>\n",
       "      <td>https://techcrunch.com/2021/07/05/kaseya-hack-...</td>\n",
       "      <td>NaN</td>\n",
       "      <td>NaN</td>\n",
       "      <td>NaN</td>\n",
       "      <td>NaN</td>\n",
       "      <td>359</td>\n",
       "    </tr>\n",
       "    <tr>\n",
       "      <th>2</th>\n",
       "      <td>Salvation Army</td>\n",
       "      <td>NaN</td>\n",
       "      <td>NaN</td>\n",
       "      <td>NaN</td>\n",
       "      <td>1</td>\n",
       "      <td>NaN</td>\n",
       "      <td>unknown</td>\n",
       "      <td>NaN</td>\n",
       "      <td>NaN</td>\n",
       "      <td>unknown</td>\n",
       "      <td>...</td>\n",
       "      <td>NaN</td>\n",
       "      <td>NaN</td>\n",
       "      <td>NaN</td>\n",
       "      <td>NaN</td>\n",
       "      <td>https://www.teiss.co.uk/salvation-army-ransomw...</td>\n",
       "      <td>NaN</td>\n",
       "      <td>NaN</td>\n",
       "      <td>NaN</td>\n",
       "      <td>NaN</td>\n",
       "      <td>358</td>\n",
       "    </tr>\n",
       "    <tr>\n",
       "      <th>3</th>\n",
       "      <td>Grupo Fleury</td>\n",
       "      <td>NaN</td>\n",
       "      <td>Brazil's largest diagnostic company</td>\n",
       "      <td>healthcare</td>\n",
       "      <td>10</td>\n",
       "      <td>686</td>\n",
       "      <td>unknown</td>\n",
       "      <td>NaN</td>\n",
       "      <td>NaN</td>\n",
       "      <td>unknown</td>\n",
       "      <td>...</td>\n",
       "      <td>NaN</td>\n",
       "      <td>NaN</td>\n",
       "      <td>NaN</td>\n",
       "      <td>NaN</td>\n",
       "      <td>https://www.bleepingcomputer.com/news/security...</td>\n",
       "      <td>NaN</td>\n",
       "      <td>NaN</td>\n",
       "      <td>NaN</td>\n",
       "      <td>NaN</td>\n",
       "      <td>357</td>\n",
       "    </tr>\n",
       "    <tr>\n",
       "      <th>4</th>\n",
       "      <td>City of Liege</td>\n",
       "      <td>NaN</td>\n",
       "      <td>NaN</td>\n",
       "      <td>government</td>\n",
       "      <td>1</td>\n",
       "      <td>NaN</td>\n",
       "      <td>unknown</td>\n",
       "      <td>NaN</td>\n",
       "      <td>NaN</td>\n",
       "      <td>unknown</td>\n",
       "      <td>...</td>\n",
       "      <td>NaN</td>\n",
       "      <td>NaN</td>\n",
       "      <td>NaN</td>\n",
       "      <td>NaN</td>\n",
       "      <td>https://securityaffairs.co/wordpress/119240/ma...</td>\n",
       "      <td>NaN</td>\n",
       "      <td>NaN</td>\n",
       "      <td>NaN</td>\n",
       "      <td>NaN</td>\n",
       "      <td>356</td>\n",
       "    </tr>\n",
       "    <tr>\n",
       "      <th>...</th>\n",
       "      <td>...</td>\n",
       "      <td>...</td>\n",
       "      <td>...</td>\n",
       "      <td>...</td>\n",
       "      <td>...</td>\n",
       "      <td>...</td>\n",
       "      <td>...</td>\n",
       "      <td>...</td>\n",
       "      <td>...</td>\n",
       "      <td>...</td>\n",
       "      <td>...</td>\n",
       "      <td>...</td>\n",
       "      <td>...</td>\n",
       "      <td>...</td>\n",
       "      <td>...</td>\n",
       "      <td>...</td>\n",
       "      <td>...</td>\n",
       "      <td>...</td>\n",
       "      <td>...</td>\n",
       "      <td>...</td>\n",
       "      <td>...</td>\n",
       "    </tr>\n",
       "    <tr>\n",
       "      <th>610</th>\n",
       "      <td>Police departments</td>\n",
       "      <td>NaN</td>\n",
       "      <td>NaN</td>\n",
       "      <td>government</td>\n",
       "      <td>1</td>\n",
       "      <td>1</td>\n",
       "      <td>$300-$500 per system</td>\n",
       "      <td>5</td>\n",
       "      <td>NaN</td>\n",
       "      <td>unknown</td>\n",
       "      <td>...</td>\n",
       "      <td>NaN</td>\n",
       "      <td>NaN</td>\n",
       "      <td>added the ransom amts of attacks across 3-4 po...</td>\n",
       "      <td>NaN</td>\n",
       "      <td>https://www.reuters.com/article/us-usa-cyber-r...</td>\n",
       "      <td>https://www.darkreading.com/attacks-breaches/p...</td>\n",
       "      <td>NaN</td>\n",
       "      <td>NaN</td>\n",
       "      <td>NaN</td>\n",
       "      <td>10</td>\n",
       "    </tr>\n",
       "    <tr>\n",
       "      <th>611</th>\n",
       "      <td>Greece banks</td>\n",
       "      <td>NaN</td>\n",
       "      <td>NaN</td>\n",
       "      <td>finance</td>\n",
       "      <td>1</td>\n",
       "      <td>1</td>\n",
       "      <td>unknown</td>\n",
       "      <td>NaN</td>\n",
       "      <td>NaN</td>\n",
       "      <td>unknown</td>\n",
       "      <td>...</td>\n",
       "      <td>NaN</td>\n",
       "      <td>NaN</td>\n",
       "      <td>NaN</td>\n",
       "      <td>NaN</td>\n",
       "      <td>https://www.dw.com/en/greece-says-hackers-hit-...</td>\n",
       "      <td>NaN</td>\n",
       "      <td>NaN</td>\n",
       "      <td>NaN</td>\n",
       "      <td>NaN</td>\n",
       "      <td>9</td>\n",
       "    </tr>\n",
       "    <tr>\n",
       "      <th>612</th>\n",
       "      <td>Multiple law firms</td>\n",
       "      <td>NaN</td>\n",
       "      <td>NaN</td>\n",
       "      <td>legal</td>\n",
       "      <td>1</td>\n",
       "      <td>1</td>\n",
       "      <td>unknown</td>\n",
       "      <td>NaN</td>\n",
       "      <td>NaN</td>\n",
       "      <td>unknown</td>\n",
       "      <td>...</td>\n",
       "      <td>NaN</td>\n",
       "      <td>NaN</td>\n",
       "      <td>NaN</td>\n",
       "      <td>NaN</td>\n",
       "      <td>https://resources.infosecinstitute.com/topic/r...</td>\n",
       "      <td>NaN</td>\n",
       "      <td>NaN</td>\n",
       "      <td>NaN</td>\n",
       "      <td>NaN</td>\n",
       "      <td>8</td>\n",
       "    </tr>\n",
       "    <tr>\n",
       "      <th>613</th>\n",
       "      <td>New Hampshire PD</td>\n",
       "      <td>NaN</td>\n",
       "      <td>NaN</td>\n",
       "      <td>government</td>\n",
       "      <td>1</td>\n",
       "      <td>1</td>\n",
       "      <td>$2000-$3000</td>\n",
       "      <td>0.003</td>\n",
       "      <td>cost</td>\n",
       "      <td>unknown</td>\n",
       "      <td>...</td>\n",
       "      <td>NaN</td>\n",
       "      <td>NaN</td>\n",
       "      <td>repair costs were $2000-$3000</td>\n",
       "      <td>NaN</td>\n",
       "      <td>https://www.nbcnews.com/tech/security/virus-wi...</td>\n",
       "      <td>NaN</td>\n",
       "      <td>NaN</td>\n",
       "      <td>NaN</td>\n",
       "      <td>NaN</td>\n",
       "      <td>4</td>\n",
       "    </tr>\n",
       "    <tr>\n",
       "      <th>614</th>\n",
       "      <td>Apple devices</td>\n",
       "      <td>NaN</td>\n",
       "      <td>NaN</td>\n",
       "      <td>mixed</td>\n",
       "      <td>1</td>\n",
       "      <td>1</td>\n",
       "      <td>$100 per device</td>\n",
       "      <td>5</td>\n",
       "      <td>NaN</td>\n",
       "      <td>unknown</td>\n",
       "      <td>...</td>\n",
       "      <td>NaN</td>\n",
       "      <td>NaN</td>\n",
       "      <td>$100 per device or $50 per device. Payment was...</td>\n",
       "      <td>NaN</td>\n",
       "      <td>https://nakedsecurity.sophos.com/2014/05/27/ap...</td>\n",
       "      <td>NaN</td>\n",
       "      <td>NaN</td>\n",
       "      <td>NaN</td>\n",
       "      <td>NaN</td>\n",
       "      <td>3</td>\n",
       "    </tr>\n",
       "  </tbody>\n",
       "</table>\n",
       "<p>615 rows × 29 columns</p>\n",
       "</div>"
      ],
      "text/plain": [
       "0                 Target  AKA                         description   \\\n",
       "0          display label  NaN                                  NaN   \n",
       "1                 Kaseya  NaN                                  NaN   \n",
       "2         Salvation Army  NaN                                  NaN   \n",
       "3           Grupo Fleury  NaN  Brazil's largest diagnostic company   \n",
       "4          City of Liege  NaN                                  NaN   \n",
       "..                   ...  ...                                  ...   \n",
       "610  Police departments   NaN                                  NaN   \n",
       "611         Greece banks  NaN                                  NaN   \n",
       "612   Multiple law firms  NaN                                  NaN   \n",
       "613     New Hampshire PD  NaN                                  NaN   \n",
       "614        Apple devices  NaN                                  NaN   \n",
       "\n",
       "0        sector  organisation size       revenue                  cost  \\\n",
       "0           NaN  1,5,10,25,100,300  $USD million         display label   \n",
       "1          tech                300           300                    70   \n",
       "2           NaN                  1           NaN               unknown   \n",
       "3    healthcare                 10           686               unknown   \n",
       "4    government                  1           NaN               unknown   \n",
       "..          ...                ...           ...                   ...   \n",
       "610  government                  1             1  $300-$500 per system   \n",
       "611     finance                  1             1               unknown   \n",
       "612       legal                  1             1               unknown   \n",
       "613  government                  1             1           $2000-$3000   \n",
       "614       mixed                  1             1       $100 per device   \n",
       "\n",
       "0   ransom cost data note ransom paid  ... revenue as of no of employees  \\\n",
       "0           NaN       NaN         NaN  ...           NaN             NaN   \n",
       "1            70       NaN     unknown  ...           NaN             NaN   \n",
       "2           NaN       NaN     unknown  ...           NaN             NaN   \n",
       "3           NaN       NaN     unknown  ...           NaN             NaN   \n",
       "4           NaN       NaN     unknown  ...           NaN             NaN   \n",
       "..          ...       ...         ...  ...           ...             ...   \n",
       "610           5       NaN     unknown  ...           NaN             NaN   \n",
       "611         NaN       NaN     unknown  ...           NaN             NaN   \n",
       "612         NaN       NaN     unknown  ...           NaN             NaN   \n",
       "613       0.003      cost     unknown  ...           NaN             NaN   \n",
       "614           5       NaN     unknown  ...           NaN             NaN   \n",
       "\n",
       "0                                            Data Note Source Name  \\\n",
       "0                                                  NaN         NaN   \n",
       "1                                                  NaN         NaN   \n",
       "2                                                  NaN         NaN   \n",
       "3                                                  NaN         NaN   \n",
       "4                                                  NaN         NaN   \n",
       "..                                                 ...         ...   \n",
       "610  added the ransom amts of attacks across 3-4 po...         NaN   \n",
       "611                                                NaN         NaN   \n",
       "612                                                NaN         NaN   \n",
       "613                      repair costs were $2000-$3000         NaN   \n",
       "614  $100 per device or $50 per device. Payment was...         NaN   \n",
       "\n",
       "0                                                  URL  \\\n",
       "0                                                  NaN   \n",
       "1    https://techcrunch.com/2021/07/05/kaseya-hack-...   \n",
       "2    https://www.teiss.co.uk/salvation-army-ransomw...   \n",
       "3    https://www.bleepingcomputer.com/news/security...   \n",
       "4    https://securityaffairs.co/wordpress/119240/ma...   \n",
       "..                                                 ...   \n",
       "610  https://www.reuters.com/article/us-usa-cyber-r...   \n",
       "611  https://www.dw.com/en/greece-says-hackers-hit-...   \n",
       "612  https://resources.infosecinstitute.com/topic/r...   \n",
       "613  https://www.nbcnews.com/tech/security/virus-wi...   \n",
       "614  https://nakedsecurity.sophos.com/2014/05/27/ap...   \n",
       "\n",
       "0                                                URL 2 URL 3 URL 4 URL 5  #ID  \n",
       "0                                                  NaN   NaN   NaN   NaN  NaN  \n",
       "1                                                  NaN   NaN   NaN   NaN  359  \n",
       "2                                                  NaN   NaN   NaN   NaN  358  \n",
       "3                                                  NaN   NaN   NaN   NaN  357  \n",
       "4                                                  NaN   NaN   NaN   NaN  356  \n",
       "..                                                 ...   ...   ...   ...  ...  \n",
       "610  https://www.darkreading.com/attacks-breaches/p...   NaN   NaN   NaN   10  \n",
       "611                                                NaN   NaN   NaN   NaN    9  \n",
       "612                                                NaN   NaN   NaN   NaN    8  \n",
       "613                                                NaN   NaN   NaN   NaN    4  \n",
       "614                                                NaN   NaN   NaN   NaN    3  \n",
       "\n",
       "[615 rows x 29 columns]"
      ]
     },
     "execution_count": 28,
     "metadata": {},
     "output_type": "execute_result"
    }
   ],
   "source": [
    "#Validate the cleaning was successful\n",
    "\n",
    "RansomKaggle_cleaned"
   ]
  },
  {
   "cell_type": "markdown",
   "metadata": {},
   "source": [
    "Justification: Moved the first row up as the data was inputting filler information for the Column names"
   ]
  },
  {
   "cell_type": "markdown",
   "metadata": {
    "id": "o51Bt8kwyTzk"
   },
   "source": [
    "### **Tidiness Issue 2: RansomKaggle (remove Column 0)"
   ]
  },
  {
   "cell_type": "code",
   "execution_count": 29,
   "metadata": {
    "id": "7zW8O5yx4Y9O"
   },
   "outputs": [],
   "source": [
    "#Apply the cleaning strategy\n",
    "RansomKaggle_cleaned = RansomKaggle_cleaned.drop(0)"
   ]
  },
  {
   "cell_type": "code",
   "execution_count": 30,
   "metadata": {
    "id": "q6I_Sr7lxXi5"
   },
   "outputs": [
    {
     "data": {
      "text/html": [
       "<div>\n",
       "<style scoped>\n",
       "    .dataframe tbody tr th:only-of-type {\n",
       "        vertical-align: middle;\n",
       "    }\n",
       "\n",
       "    .dataframe tbody tr th {\n",
       "        vertical-align: top;\n",
       "    }\n",
       "\n",
       "    .dataframe thead th {\n",
       "        text-align: right;\n",
       "    }\n",
       "</style>\n",
       "<table border=\"1\" class=\"dataframe\">\n",
       "  <thead>\n",
       "    <tr style=\"text-align: right;\">\n",
       "      <th></th>\n",
       "      <th>Target</th>\n",
       "      <th>AKA</th>\n",
       "      <th>description</th>\n",
       "      <th>sector</th>\n",
       "      <th>organisation size</th>\n",
       "      <th>revenue</th>\n",
       "      <th>cost</th>\n",
       "      <th>ransom cost</th>\n",
       "      <th>data note</th>\n",
       "      <th>ransom paid</th>\n",
       "      <th>...</th>\n",
       "      <th>revenue as of</th>\n",
       "      <th>no of employees</th>\n",
       "      <th>Data Note</th>\n",
       "      <th>Source Name</th>\n",
       "      <th>URL</th>\n",
       "      <th>URL 2</th>\n",
       "      <th>URL 3</th>\n",
       "      <th>URL 4</th>\n",
       "      <th>URL 5</th>\n",
       "      <th>#ID</th>\n",
       "    </tr>\n",
       "  </thead>\n",
       "  <tbody>\n",
       "    <tr>\n",
       "      <th>1</th>\n",
       "      <td>Kaseya</td>\n",
       "      <td>NaN</td>\n",
       "      <td>NaN</td>\n",
       "      <td>tech</td>\n",
       "      <td>300</td>\n",
       "      <td>300</td>\n",
       "      <td>70</td>\n",
       "      <td>70</td>\n",
       "      <td>NaN</td>\n",
       "      <td>unknown</td>\n",
       "      <td>...</td>\n",
       "      <td>NaN</td>\n",
       "      <td>NaN</td>\n",
       "      <td>NaN</td>\n",
       "      <td>NaN</td>\n",
       "      <td>https://techcrunch.com/2021/07/05/kaseya-hack-...</td>\n",
       "      <td>NaN</td>\n",
       "      <td>NaN</td>\n",
       "      <td>NaN</td>\n",
       "      <td>NaN</td>\n",
       "      <td>359</td>\n",
       "    </tr>\n",
       "    <tr>\n",
       "      <th>2</th>\n",
       "      <td>Salvation Army</td>\n",
       "      <td>NaN</td>\n",
       "      <td>NaN</td>\n",
       "      <td>NaN</td>\n",
       "      <td>1</td>\n",
       "      <td>NaN</td>\n",
       "      <td>unknown</td>\n",
       "      <td>NaN</td>\n",
       "      <td>NaN</td>\n",
       "      <td>unknown</td>\n",
       "      <td>...</td>\n",
       "      <td>NaN</td>\n",
       "      <td>NaN</td>\n",
       "      <td>NaN</td>\n",
       "      <td>NaN</td>\n",
       "      <td>https://www.teiss.co.uk/salvation-army-ransomw...</td>\n",
       "      <td>NaN</td>\n",
       "      <td>NaN</td>\n",
       "      <td>NaN</td>\n",
       "      <td>NaN</td>\n",
       "      <td>358</td>\n",
       "    </tr>\n",
       "    <tr>\n",
       "      <th>3</th>\n",
       "      <td>Grupo Fleury</td>\n",
       "      <td>NaN</td>\n",
       "      <td>Brazil's largest diagnostic company</td>\n",
       "      <td>healthcare</td>\n",
       "      <td>10</td>\n",
       "      <td>686</td>\n",
       "      <td>unknown</td>\n",
       "      <td>NaN</td>\n",
       "      <td>NaN</td>\n",
       "      <td>unknown</td>\n",
       "      <td>...</td>\n",
       "      <td>NaN</td>\n",
       "      <td>NaN</td>\n",
       "      <td>NaN</td>\n",
       "      <td>NaN</td>\n",
       "      <td>https://www.bleepingcomputer.com/news/security...</td>\n",
       "      <td>NaN</td>\n",
       "      <td>NaN</td>\n",
       "      <td>NaN</td>\n",
       "      <td>NaN</td>\n",
       "      <td>357</td>\n",
       "    </tr>\n",
       "    <tr>\n",
       "      <th>4</th>\n",
       "      <td>City of Liege</td>\n",
       "      <td>NaN</td>\n",
       "      <td>NaN</td>\n",
       "      <td>government</td>\n",
       "      <td>1</td>\n",
       "      <td>NaN</td>\n",
       "      <td>unknown</td>\n",
       "      <td>NaN</td>\n",
       "      <td>NaN</td>\n",
       "      <td>unknown</td>\n",
       "      <td>...</td>\n",
       "      <td>NaN</td>\n",
       "      <td>NaN</td>\n",
       "      <td>NaN</td>\n",
       "      <td>NaN</td>\n",
       "      <td>https://securityaffairs.co/wordpress/119240/ma...</td>\n",
       "      <td>NaN</td>\n",
       "      <td>NaN</td>\n",
       "      <td>NaN</td>\n",
       "      <td>NaN</td>\n",
       "      <td>356</td>\n",
       "    </tr>\n",
       "    <tr>\n",
       "      <th>5</th>\n",
       "      <td>Lucky Star Casino</td>\n",
       "      <td>NaN</td>\n",
       "      <td>NaN</td>\n",
       "      <td>NaN</td>\n",
       "      <td>1</td>\n",
       "      <td>8.5</td>\n",
       "      <td>unknown</td>\n",
       "      <td>NaN</td>\n",
       "      <td>NaN</td>\n",
       "      <td>unknown</td>\n",
       "      <td>...</td>\n",
       "      <td>NaN</td>\n",
       "      <td>NaN</td>\n",
       "      <td>NaN</td>\n",
       "      <td>NaN</td>\n",
       "      <td>https://www.casino.org/news/lucky-star-casinos...</td>\n",
       "      <td>NaN</td>\n",
       "      <td>NaN</td>\n",
       "      <td>NaN</td>\n",
       "      <td>NaN</td>\n",
       "      <td>355</td>\n",
       "    </tr>\n",
       "    <tr>\n",
       "      <th>...</th>\n",
       "      <td>...</td>\n",
       "      <td>...</td>\n",
       "      <td>...</td>\n",
       "      <td>...</td>\n",
       "      <td>...</td>\n",
       "      <td>...</td>\n",
       "      <td>...</td>\n",
       "      <td>...</td>\n",
       "      <td>...</td>\n",
       "      <td>...</td>\n",
       "      <td>...</td>\n",
       "      <td>...</td>\n",
       "      <td>...</td>\n",
       "      <td>...</td>\n",
       "      <td>...</td>\n",
       "      <td>...</td>\n",
       "      <td>...</td>\n",
       "      <td>...</td>\n",
       "      <td>...</td>\n",
       "      <td>...</td>\n",
       "      <td>...</td>\n",
       "    </tr>\n",
       "    <tr>\n",
       "      <th>610</th>\n",
       "      <td>Police departments</td>\n",
       "      <td>NaN</td>\n",
       "      <td>NaN</td>\n",
       "      <td>government</td>\n",
       "      <td>1</td>\n",
       "      <td>1</td>\n",
       "      <td>$300-$500 per system</td>\n",
       "      <td>5</td>\n",
       "      <td>NaN</td>\n",
       "      <td>unknown</td>\n",
       "      <td>...</td>\n",
       "      <td>NaN</td>\n",
       "      <td>NaN</td>\n",
       "      <td>added the ransom amts of attacks across 3-4 po...</td>\n",
       "      <td>NaN</td>\n",
       "      <td>https://www.reuters.com/article/us-usa-cyber-r...</td>\n",
       "      <td>https://www.darkreading.com/attacks-breaches/p...</td>\n",
       "      <td>NaN</td>\n",
       "      <td>NaN</td>\n",
       "      <td>NaN</td>\n",
       "      <td>10</td>\n",
       "    </tr>\n",
       "    <tr>\n",
       "      <th>611</th>\n",
       "      <td>Greece banks</td>\n",
       "      <td>NaN</td>\n",
       "      <td>NaN</td>\n",
       "      <td>finance</td>\n",
       "      <td>1</td>\n",
       "      <td>1</td>\n",
       "      <td>unknown</td>\n",
       "      <td>NaN</td>\n",
       "      <td>NaN</td>\n",
       "      <td>unknown</td>\n",
       "      <td>...</td>\n",
       "      <td>NaN</td>\n",
       "      <td>NaN</td>\n",
       "      <td>NaN</td>\n",
       "      <td>NaN</td>\n",
       "      <td>https://www.dw.com/en/greece-says-hackers-hit-...</td>\n",
       "      <td>NaN</td>\n",
       "      <td>NaN</td>\n",
       "      <td>NaN</td>\n",
       "      <td>NaN</td>\n",
       "      <td>9</td>\n",
       "    </tr>\n",
       "    <tr>\n",
       "      <th>612</th>\n",
       "      <td>Multiple law firms</td>\n",
       "      <td>NaN</td>\n",
       "      <td>NaN</td>\n",
       "      <td>legal</td>\n",
       "      <td>1</td>\n",
       "      <td>1</td>\n",
       "      <td>unknown</td>\n",
       "      <td>NaN</td>\n",
       "      <td>NaN</td>\n",
       "      <td>unknown</td>\n",
       "      <td>...</td>\n",
       "      <td>NaN</td>\n",
       "      <td>NaN</td>\n",
       "      <td>NaN</td>\n",
       "      <td>NaN</td>\n",
       "      <td>https://resources.infosecinstitute.com/topic/r...</td>\n",
       "      <td>NaN</td>\n",
       "      <td>NaN</td>\n",
       "      <td>NaN</td>\n",
       "      <td>NaN</td>\n",
       "      <td>8</td>\n",
       "    </tr>\n",
       "    <tr>\n",
       "      <th>613</th>\n",
       "      <td>New Hampshire PD</td>\n",
       "      <td>NaN</td>\n",
       "      <td>NaN</td>\n",
       "      <td>government</td>\n",
       "      <td>1</td>\n",
       "      <td>1</td>\n",
       "      <td>$2000-$3000</td>\n",
       "      <td>0.003</td>\n",
       "      <td>cost</td>\n",
       "      <td>unknown</td>\n",
       "      <td>...</td>\n",
       "      <td>NaN</td>\n",
       "      <td>NaN</td>\n",
       "      <td>repair costs were $2000-$3000</td>\n",
       "      <td>NaN</td>\n",
       "      <td>https://www.nbcnews.com/tech/security/virus-wi...</td>\n",
       "      <td>NaN</td>\n",
       "      <td>NaN</td>\n",
       "      <td>NaN</td>\n",
       "      <td>NaN</td>\n",
       "      <td>4</td>\n",
       "    </tr>\n",
       "    <tr>\n",
       "      <th>614</th>\n",
       "      <td>Apple devices</td>\n",
       "      <td>NaN</td>\n",
       "      <td>NaN</td>\n",
       "      <td>mixed</td>\n",
       "      <td>1</td>\n",
       "      <td>1</td>\n",
       "      <td>$100 per device</td>\n",
       "      <td>5</td>\n",
       "      <td>NaN</td>\n",
       "      <td>unknown</td>\n",
       "      <td>...</td>\n",
       "      <td>NaN</td>\n",
       "      <td>NaN</td>\n",
       "      <td>$100 per device or $50 per device. Payment was...</td>\n",
       "      <td>NaN</td>\n",
       "      <td>https://nakedsecurity.sophos.com/2014/05/27/ap...</td>\n",
       "      <td>NaN</td>\n",
       "      <td>NaN</td>\n",
       "      <td>NaN</td>\n",
       "      <td>NaN</td>\n",
       "      <td>3</td>\n",
       "    </tr>\n",
       "  </tbody>\n",
       "</table>\n",
       "<p>614 rows × 29 columns</p>\n",
       "</div>"
      ],
      "text/plain": [
       "0                 Target  AKA                         description   \\\n",
       "1                 Kaseya  NaN                                  NaN   \n",
       "2         Salvation Army  NaN                                  NaN   \n",
       "3           Grupo Fleury  NaN  Brazil's largest diagnostic company   \n",
       "4          City of Liege  NaN                                  NaN   \n",
       "5      Lucky Star Casino  NaN                                  NaN   \n",
       "..                   ...  ...                                  ...   \n",
       "610  Police departments   NaN                                  NaN   \n",
       "611         Greece banks  NaN                                  NaN   \n",
       "612   Multiple law firms  NaN                                  NaN   \n",
       "613     New Hampshire PD  NaN                                  NaN   \n",
       "614        Apple devices  NaN                                  NaN   \n",
       "\n",
       "0        sector organisation size revenue                  cost ransom cost  \\\n",
       "1          tech               300     300                    70          70   \n",
       "2           NaN                 1     NaN               unknown         NaN   \n",
       "3    healthcare                10     686               unknown         NaN   \n",
       "4    government                 1     NaN               unknown         NaN   \n",
       "5           NaN                 1     8.5               unknown         NaN   \n",
       "..          ...               ...     ...                   ...         ...   \n",
       "610  government                 1       1  $300-$500 per system           5   \n",
       "611     finance                 1       1               unknown         NaN   \n",
       "612       legal                 1       1               unknown         NaN   \n",
       "613  government                 1       1           $2000-$3000       0.003   \n",
       "614       mixed                 1       1       $100 per device           5   \n",
       "\n",
       "0   data note ransom paid  ... revenue as of no of employees  \\\n",
       "1         NaN     unknown  ...           NaN             NaN   \n",
       "2         NaN     unknown  ...           NaN             NaN   \n",
       "3         NaN     unknown  ...           NaN             NaN   \n",
       "4         NaN     unknown  ...           NaN             NaN   \n",
       "5         NaN     unknown  ...           NaN             NaN   \n",
       "..        ...         ...  ...           ...             ...   \n",
       "610       NaN     unknown  ...           NaN             NaN   \n",
       "611       NaN     unknown  ...           NaN             NaN   \n",
       "612       NaN     unknown  ...           NaN             NaN   \n",
       "613      cost     unknown  ...           NaN             NaN   \n",
       "614       NaN     unknown  ...           NaN             NaN   \n",
       "\n",
       "0                                            Data Note Source Name  \\\n",
       "1                                                  NaN         NaN   \n",
       "2                                                  NaN         NaN   \n",
       "3                                                  NaN         NaN   \n",
       "4                                                  NaN         NaN   \n",
       "5                                                  NaN         NaN   \n",
       "..                                                 ...         ...   \n",
       "610  added the ransom amts of attacks across 3-4 po...         NaN   \n",
       "611                                                NaN         NaN   \n",
       "612                                                NaN         NaN   \n",
       "613                      repair costs were $2000-$3000         NaN   \n",
       "614  $100 per device or $50 per device. Payment was...         NaN   \n",
       "\n",
       "0                                                  URL  \\\n",
       "1    https://techcrunch.com/2021/07/05/kaseya-hack-...   \n",
       "2    https://www.teiss.co.uk/salvation-army-ransomw...   \n",
       "3    https://www.bleepingcomputer.com/news/security...   \n",
       "4    https://securityaffairs.co/wordpress/119240/ma...   \n",
       "5    https://www.casino.org/news/lucky-star-casinos...   \n",
       "..                                                 ...   \n",
       "610  https://www.reuters.com/article/us-usa-cyber-r...   \n",
       "611  https://www.dw.com/en/greece-says-hackers-hit-...   \n",
       "612  https://resources.infosecinstitute.com/topic/r...   \n",
       "613  https://www.nbcnews.com/tech/security/virus-wi...   \n",
       "614  https://nakedsecurity.sophos.com/2014/05/27/ap...   \n",
       "\n",
       "0                                                URL 2 URL 3 URL 4 URL 5  #ID  \n",
       "1                                                  NaN   NaN   NaN   NaN  359  \n",
       "2                                                  NaN   NaN   NaN   NaN  358  \n",
       "3                                                  NaN   NaN   NaN   NaN  357  \n",
       "4                                                  NaN   NaN   NaN   NaN  356  \n",
       "5                                                  NaN   NaN   NaN   NaN  355  \n",
       "..                                                 ...   ...   ...   ...  ...  \n",
       "610  https://www.darkreading.com/attacks-breaches/p...   NaN   NaN   NaN   10  \n",
       "611                                                NaN   NaN   NaN   NaN    9  \n",
       "612                                                NaN   NaN   NaN   NaN    8  \n",
       "613                                                NaN   NaN   NaN   NaN    4  \n",
       "614                                                NaN   NaN   NaN   NaN    3  \n",
       "\n",
       "[614 rows x 29 columns]"
      ]
     },
     "execution_count": 30,
     "metadata": {},
     "output_type": "execute_result"
    }
   ],
   "source": [
    "#Validate the cleaning was successful\n",
    "RansomKaggle_cleaned"
   ]
  },
  {
   "cell_type": "markdown",
   "metadata": {},
   "source": [
    "Justification: Dropped row 0 as it had no pertinent information"
   ]
  },
  {
   "cell_type": "markdown",
   "metadata": {
    "id": "o51Bt8kwyTzk"
   },
   "source": [
    "### **Tidiness Issue 3: RansomKaggle (Standardize Names of Columns)"
   ]
  },
  {
   "cell_type": "code",
   "execution_count": 31,
   "metadata": {
    "id": "7zW8O5yx4Y9O"
   },
   "outputs": [
    {
     "name": "stderr",
     "output_type": "stream",
     "text": [
      "/tmp/ipykernel_147/362195141.py:5: FutureWarning: The default value of regex will change from True to False in a future version.\n",
      "  RansomKaggle_cleaned.columns = RansomKaggle_cleaned.columns.str.replace('[^a-zA-Z0-9]', '_')  # Replace special characters with underscores\n"
     ]
    }
   ],
   "source": [
    "#Apply the cleaning strategy\n",
    "\n",
    "# Clean up column names\n",
    "RansomKaggle_cleaned.columns = RansomKaggle_cleaned.columns.str.strip()  # Remove leading/trailing spaces\n",
    "RansomKaggle_cleaned.columns = RansomKaggle_cleaned.columns.str.replace('[^a-zA-Z0-9]', '_')  # Replace special characters with underscores\n",
    "RansomKaggle_cleaned.columns = RansomKaggle_cleaned.columns.str.title()  # Capitalize the first letter of each word\n",
    "\n"
   ]
  },
  {
   "cell_type": "code",
   "execution_count": 32,
   "metadata": {
    "id": "q6I_Sr7lxXi5"
   },
   "outputs": [
    {
     "data": {
      "text/html": [
       "<div>\n",
       "<style scoped>\n",
       "    .dataframe tbody tr th:only-of-type {\n",
       "        vertical-align: middle;\n",
       "    }\n",
       "\n",
       "    .dataframe tbody tr th {\n",
       "        vertical-align: top;\n",
       "    }\n",
       "\n",
       "    .dataframe thead th {\n",
       "        text-align: right;\n",
       "    }\n",
       "</style>\n",
       "<table border=\"1\" class=\"dataframe\">\n",
       "  <thead>\n",
       "    <tr style=\"text-align: right;\">\n",
       "      <th></th>\n",
       "      <th>Target</th>\n",
       "      <th>Aka</th>\n",
       "      <th>Description</th>\n",
       "      <th>Sector</th>\n",
       "      <th>Organisation_Size</th>\n",
       "      <th>Revenue</th>\n",
       "      <th>Cost</th>\n",
       "      <th>Ransom_Cost</th>\n",
       "      <th>Data_Note</th>\n",
       "      <th>Ransom_Paid</th>\n",
       "      <th>...</th>\n",
       "      <th>Revenue_As_Of</th>\n",
       "      <th>No_Of_Employees</th>\n",
       "      <th>Data_Note</th>\n",
       "      <th>Source_Name</th>\n",
       "      <th>Url</th>\n",
       "      <th>Url_2</th>\n",
       "      <th>Url_3</th>\n",
       "      <th>Url_4</th>\n",
       "      <th>Url_5</th>\n",
       "      <th>_Id</th>\n",
       "    </tr>\n",
       "  </thead>\n",
       "  <tbody>\n",
       "    <tr>\n",
       "      <th>1</th>\n",
       "      <td>Kaseya</td>\n",
       "      <td>NaN</td>\n",
       "      <td>NaN</td>\n",
       "      <td>tech</td>\n",
       "      <td>300</td>\n",
       "      <td>300</td>\n",
       "      <td>70</td>\n",
       "      <td>70</td>\n",
       "      <td>NaN</td>\n",
       "      <td>unknown</td>\n",
       "      <td>...</td>\n",
       "      <td>NaN</td>\n",
       "      <td>NaN</td>\n",
       "      <td>NaN</td>\n",
       "      <td>NaN</td>\n",
       "      <td>https://techcrunch.com/2021/07/05/kaseya-hack-...</td>\n",
       "      <td>NaN</td>\n",
       "      <td>NaN</td>\n",
       "      <td>NaN</td>\n",
       "      <td>NaN</td>\n",
       "      <td>359</td>\n",
       "    </tr>\n",
       "    <tr>\n",
       "      <th>2</th>\n",
       "      <td>Salvation Army</td>\n",
       "      <td>NaN</td>\n",
       "      <td>NaN</td>\n",
       "      <td>NaN</td>\n",
       "      <td>1</td>\n",
       "      <td>NaN</td>\n",
       "      <td>unknown</td>\n",
       "      <td>NaN</td>\n",
       "      <td>NaN</td>\n",
       "      <td>unknown</td>\n",
       "      <td>...</td>\n",
       "      <td>NaN</td>\n",
       "      <td>NaN</td>\n",
       "      <td>NaN</td>\n",
       "      <td>NaN</td>\n",
       "      <td>https://www.teiss.co.uk/salvation-army-ransomw...</td>\n",
       "      <td>NaN</td>\n",
       "      <td>NaN</td>\n",
       "      <td>NaN</td>\n",
       "      <td>NaN</td>\n",
       "      <td>358</td>\n",
       "    </tr>\n",
       "    <tr>\n",
       "      <th>3</th>\n",
       "      <td>Grupo Fleury</td>\n",
       "      <td>NaN</td>\n",
       "      <td>Brazil's largest diagnostic company</td>\n",
       "      <td>healthcare</td>\n",
       "      <td>10</td>\n",
       "      <td>686</td>\n",
       "      <td>unknown</td>\n",
       "      <td>NaN</td>\n",
       "      <td>NaN</td>\n",
       "      <td>unknown</td>\n",
       "      <td>...</td>\n",
       "      <td>NaN</td>\n",
       "      <td>NaN</td>\n",
       "      <td>NaN</td>\n",
       "      <td>NaN</td>\n",
       "      <td>https://www.bleepingcomputer.com/news/security...</td>\n",
       "      <td>NaN</td>\n",
       "      <td>NaN</td>\n",
       "      <td>NaN</td>\n",
       "      <td>NaN</td>\n",
       "      <td>357</td>\n",
       "    </tr>\n",
       "    <tr>\n",
       "      <th>4</th>\n",
       "      <td>City of Liege</td>\n",
       "      <td>NaN</td>\n",
       "      <td>NaN</td>\n",
       "      <td>government</td>\n",
       "      <td>1</td>\n",
       "      <td>NaN</td>\n",
       "      <td>unknown</td>\n",
       "      <td>NaN</td>\n",
       "      <td>NaN</td>\n",
       "      <td>unknown</td>\n",
       "      <td>...</td>\n",
       "      <td>NaN</td>\n",
       "      <td>NaN</td>\n",
       "      <td>NaN</td>\n",
       "      <td>NaN</td>\n",
       "      <td>https://securityaffairs.co/wordpress/119240/ma...</td>\n",
       "      <td>NaN</td>\n",
       "      <td>NaN</td>\n",
       "      <td>NaN</td>\n",
       "      <td>NaN</td>\n",
       "      <td>356</td>\n",
       "    </tr>\n",
       "    <tr>\n",
       "      <th>5</th>\n",
       "      <td>Lucky Star Casino</td>\n",
       "      <td>NaN</td>\n",
       "      <td>NaN</td>\n",
       "      <td>NaN</td>\n",
       "      <td>1</td>\n",
       "      <td>8.5</td>\n",
       "      <td>unknown</td>\n",
       "      <td>NaN</td>\n",
       "      <td>NaN</td>\n",
       "      <td>unknown</td>\n",
       "      <td>...</td>\n",
       "      <td>NaN</td>\n",
       "      <td>NaN</td>\n",
       "      <td>NaN</td>\n",
       "      <td>NaN</td>\n",
       "      <td>https://www.casino.org/news/lucky-star-casinos...</td>\n",
       "      <td>NaN</td>\n",
       "      <td>NaN</td>\n",
       "      <td>NaN</td>\n",
       "      <td>NaN</td>\n",
       "      <td>355</td>\n",
       "    </tr>\n",
       "  </tbody>\n",
       "</table>\n",
       "<p>5 rows × 29 columns</p>\n",
       "</div>"
      ],
      "text/plain": [
       "0             Target  Aka                          Description      Sector  \\\n",
       "1             Kaseya  NaN                                  NaN        tech   \n",
       "2     Salvation Army  NaN                                  NaN         NaN   \n",
       "3       Grupo Fleury  NaN  Brazil's largest diagnostic company  healthcare   \n",
       "4      City of Liege  NaN                                  NaN  government   \n",
       "5  Lucky Star Casino  NaN                                  NaN         NaN   \n",
       "\n",
       "0 Organisation_Size Revenue     Cost Ransom_Cost Data_Note Ransom_Paid  ...  \\\n",
       "1               300     300       70          70       NaN     unknown  ...   \n",
       "2                 1     NaN  unknown         NaN       NaN     unknown  ...   \n",
       "3                10     686  unknown         NaN       NaN     unknown  ...   \n",
       "4                 1     NaN  unknown         NaN       NaN     unknown  ...   \n",
       "5                 1     8.5  unknown         NaN       NaN     unknown  ...   \n",
       "\n",
       "0 Revenue_As_Of No_Of_Employees Data_Note Source_Name  \\\n",
       "1           NaN             NaN       NaN         NaN   \n",
       "2           NaN             NaN       NaN         NaN   \n",
       "3           NaN             NaN       NaN         NaN   \n",
       "4           NaN             NaN       NaN         NaN   \n",
       "5           NaN             NaN       NaN         NaN   \n",
       "\n",
       "0                                                Url Url_2 Url_3 Url_4 Url_5  \\\n",
       "1  https://techcrunch.com/2021/07/05/kaseya-hack-...   NaN   NaN   NaN   NaN   \n",
       "2  https://www.teiss.co.uk/salvation-army-ransomw...   NaN   NaN   NaN   NaN   \n",
       "3  https://www.bleepingcomputer.com/news/security...   NaN   NaN   NaN   NaN   \n",
       "4  https://securityaffairs.co/wordpress/119240/ma...   NaN   NaN   NaN   NaN   \n",
       "5  https://www.casino.org/news/lucky-star-casinos...   NaN   NaN   NaN   NaN   \n",
       "\n",
       "0  _Id  \n",
       "1  359  \n",
       "2  358  \n",
       "3  357  \n",
       "4  356  \n",
       "5  355  \n",
       "\n",
       "[5 rows x 29 columns]"
      ]
     },
     "execution_count": 32,
     "metadata": {},
     "output_type": "execute_result"
    }
   ],
   "source": [
    "#Validate the cleaning was successful\n",
    "RansomKaggle_cleaned.head()"
   ]
  },
  {
   "cell_type": "markdown",
   "metadata": {},
   "source": [
    "Justification: Fix all the column names to be uniform with capital letters first then any space to be filled in with an underscore in order to make it more python readable. "
   ]
  },
  {
   "cell_type": "markdown",
   "metadata": {
    "id": "o51Bt8kwyTzk"
   },
   "source": [
    "### **Tidiness Issue 5: RansomKaggle (Date Format Change to match RansomPost)"
   ]
  },
  {
   "cell_type": "code",
   "execution_count": 33,
   "metadata": {
    "id": "7zW8O5yx4Y9O"
   },
   "outputs": [],
   "source": [
    "#Apply the cleaning strategy\n",
    "# Combine 'YEAR' and 'month' columns into a new 'Date' column\n",
    "RansomKaggle_cleaned['Date'] = RansomKaggle_cleaned['Year'].astype(str) + '-' + RansomKaggle_cleaned['Month'].str[:3]\n",
    "\n",
    "# Map month abbreviations to corresponding numerical values\n",
    "month_map = {\n",
    "    'JAN': '01', 'FEB': '02', 'MAR': '03', 'APR': '04',\n",
    "    'MAY': '05', 'JUN': '06', 'JUL': '07', 'AUG': '08',\n",
    "    'SEP': '09', 'OCT': '10', 'NOV': '11', 'DEC': '12'\n",
    "}\n",
    "RansomKaggle_cleaned['Date'] = RansomKaggle_cleaned['Date'].str[:4] + '-' + RansomKaggle_cleaned['Date'].str[5:].map(month_map)\n",
    "\n",
    "# Convert 'Date' column to datetime format\n",
    "RansomKaggle_cleaned['Date'] = pd.to_datetime(RansomKaggle_cleaned['Date'], format='%Y-%m')\n",
    "\n",
    "# Drop the original 'YEAR' and 'month' columns\n",
    "RansomKaggle_cleaned.drop(['Year', 'Month'], axis=1, inplace=True)"
   ]
  },
  {
   "cell_type": "code",
   "execution_count": 34,
   "metadata": {
    "id": "q6I_Sr7lxXi5"
   },
   "outputs": [
    {
     "data": {
      "text/plain": [
       "['Target',\n",
       " 'Aka',\n",
       " 'Description',\n",
       " 'Sector',\n",
       " 'Organisation_Size',\n",
       " 'Revenue',\n",
       " 'Cost',\n",
       " 'Ransom_Cost',\n",
       " 'Data_Note',\n",
       " 'Ransom_Paid',\n",
       " 'Year_Code',\n",
       " 'Location',\n",
       " 'Interesting_Story__Edited_',\n",
       " 'Interesting_Story__Long_',\n",
       " 'Interesting_Story_',\n",
       " 'Ransomware',\n",
       " 'Stock_Symbol',\n",
       " 'Revenue_As_Of',\n",
       " 'No_Of_Employees',\n",
       " 'Data_Note',\n",
       " 'Source_Name',\n",
       " 'Url',\n",
       " 'Url_2',\n",
       " 'Url_3',\n",
       " 'Url_4',\n",
       " 'Url_5',\n",
       " '_Id',\n",
       " 'Date']"
      ]
     },
     "execution_count": 34,
     "metadata": {},
     "output_type": "execute_result"
    }
   ],
   "source": [
    "#Validate the cleaning was successful\n",
    "RansomKaggle_cleaned.columns.tolist()"
   ]
  },
  {
   "cell_type": "code",
   "execution_count": 35,
   "metadata": {},
   "outputs": [
    {
     "data": {
      "text/html": [
       "<div>\n",
       "<style scoped>\n",
       "    .dataframe tbody tr th:only-of-type {\n",
       "        vertical-align: middle;\n",
       "    }\n",
       "\n",
       "    .dataframe tbody tr th {\n",
       "        vertical-align: top;\n",
       "    }\n",
       "\n",
       "    .dataframe thead th {\n",
       "        text-align: right;\n",
       "    }\n",
       "</style>\n",
       "<table border=\"1\" class=\"dataframe\">\n",
       "  <thead>\n",
       "    <tr style=\"text-align: right;\">\n",
       "      <th></th>\n",
       "      <th>Target</th>\n",
       "      <th>Aka</th>\n",
       "      <th>Description</th>\n",
       "      <th>Sector</th>\n",
       "      <th>Organisation_Size</th>\n",
       "      <th>Revenue</th>\n",
       "      <th>Cost</th>\n",
       "      <th>Ransom_Cost</th>\n",
       "      <th>Data_Note</th>\n",
       "      <th>Ransom_Paid</th>\n",
       "      <th>...</th>\n",
       "      <th>No_Of_Employees</th>\n",
       "      <th>Data_Note</th>\n",
       "      <th>Source_Name</th>\n",
       "      <th>Url</th>\n",
       "      <th>Url_2</th>\n",
       "      <th>Url_3</th>\n",
       "      <th>Url_4</th>\n",
       "      <th>Url_5</th>\n",
       "      <th>_Id</th>\n",
       "      <th>Date</th>\n",
       "    </tr>\n",
       "  </thead>\n",
       "  <tbody>\n",
       "    <tr>\n",
       "      <th>1</th>\n",
       "      <td>Kaseya</td>\n",
       "      <td>NaN</td>\n",
       "      <td>NaN</td>\n",
       "      <td>tech</td>\n",
       "      <td>300</td>\n",
       "      <td>300</td>\n",
       "      <td>70</td>\n",
       "      <td>70</td>\n",
       "      <td>NaN</td>\n",
       "      <td>unknown</td>\n",
       "      <td>...</td>\n",
       "      <td>NaN</td>\n",
       "      <td>NaN</td>\n",
       "      <td>NaN</td>\n",
       "      <td>https://techcrunch.com/2021/07/05/kaseya-hack-...</td>\n",
       "      <td>NaN</td>\n",
       "      <td>NaN</td>\n",
       "      <td>NaN</td>\n",
       "      <td>NaN</td>\n",
       "      <td>359</td>\n",
       "      <td>2021-07-01</td>\n",
       "    </tr>\n",
       "    <tr>\n",
       "      <th>2</th>\n",
       "      <td>Salvation Army</td>\n",
       "      <td>NaN</td>\n",
       "      <td>NaN</td>\n",
       "      <td>NaN</td>\n",
       "      <td>1</td>\n",
       "      <td>NaN</td>\n",
       "      <td>unknown</td>\n",
       "      <td>NaN</td>\n",
       "      <td>NaN</td>\n",
       "      <td>unknown</td>\n",
       "      <td>...</td>\n",
       "      <td>NaN</td>\n",
       "      <td>NaN</td>\n",
       "      <td>NaN</td>\n",
       "      <td>https://www.teiss.co.uk/salvation-army-ransomw...</td>\n",
       "      <td>NaN</td>\n",
       "      <td>NaN</td>\n",
       "      <td>NaN</td>\n",
       "      <td>NaN</td>\n",
       "      <td>358</td>\n",
       "      <td>2021-06-01</td>\n",
       "    </tr>\n",
       "    <tr>\n",
       "      <th>3</th>\n",
       "      <td>Grupo Fleury</td>\n",
       "      <td>NaN</td>\n",
       "      <td>Brazil's largest diagnostic company</td>\n",
       "      <td>healthcare</td>\n",
       "      <td>10</td>\n",
       "      <td>686</td>\n",
       "      <td>unknown</td>\n",
       "      <td>NaN</td>\n",
       "      <td>NaN</td>\n",
       "      <td>unknown</td>\n",
       "      <td>...</td>\n",
       "      <td>NaN</td>\n",
       "      <td>NaN</td>\n",
       "      <td>NaN</td>\n",
       "      <td>https://www.bleepingcomputer.com/news/security...</td>\n",
       "      <td>NaN</td>\n",
       "      <td>NaN</td>\n",
       "      <td>NaN</td>\n",
       "      <td>NaN</td>\n",
       "      <td>357</td>\n",
       "      <td>2021-06-01</td>\n",
       "    </tr>\n",
       "    <tr>\n",
       "      <th>4</th>\n",
       "      <td>City of Liege</td>\n",
       "      <td>NaN</td>\n",
       "      <td>NaN</td>\n",
       "      <td>government</td>\n",
       "      <td>1</td>\n",
       "      <td>NaN</td>\n",
       "      <td>unknown</td>\n",
       "      <td>NaN</td>\n",
       "      <td>NaN</td>\n",
       "      <td>unknown</td>\n",
       "      <td>...</td>\n",
       "      <td>NaN</td>\n",
       "      <td>NaN</td>\n",
       "      <td>NaN</td>\n",
       "      <td>https://securityaffairs.co/wordpress/119240/ma...</td>\n",
       "      <td>NaN</td>\n",
       "      <td>NaN</td>\n",
       "      <td>NaN</td>\n",
       "      <td>NaN</td>\n",
       "      <td>356</td>\n",
       "      <td>2021-06-01</td>\n",
       "    </tr>\n",
       "    <tr>\n",
       "      <th>5</th>\n",
       "      <td>Lucky Star Casino</td>\n",
       "      <td>NaN</td>\n",
       "      <td>NaN</td>\n",
       "      <td>NaN</td>\n",
       "      <td>1</td>\n",
       "      <td>8.5</td>\n",
       "      <td>unknown</td>\n",
       "      <td>NaN</td>\n",
       "      <td>NaN</td>\n",
       "      <td>unknown</td>\n",
       "      <td>...</td>\n",
       "      <td>NaN</td>\n",
       "      <td>NaN</td>\n",
       "      <td>NaN</td>\n",
       "      <td>https://www.casino.org/news/lucky-star-casinos...</td>\n",
       "      <td>NaN</td>\n",
       "      <td>NaN</td>\n",
       "      <td>NaN</td>\n",
       "      <td>NaN</td>\n",
       "      <td>355</td>\n",
       "      <td>2021-06-01</td>\n",
       "    </tr>\n",
       "  </tbody>\n",
       "</table>\n",
       "<p>5 rows × 28 columns</p>\n",
       "</div>"
      ],
      "text/plain": [
       "0             Target  Aka                          Description      Sector  \\\n",
       "1             Kaseya  NaN                                  NaN        tech   \n",
       "2     Salvation Army  NaN                                  NaN         NaN   \n",
       "3       Grupo Fleury  NaN  Brazil's largest diagnostic company  healthcare   \n",
       "4      City of Liege  NaN                                  NaN  government   \n",
       "5  Lucky Star Casino  NaN                                  NaN         NaN   \n",
       "\n",
       "0 Organisation_Size Revenue     Cost Ransom_Cost Data_Note Ransom_Paid  ...  \\\n",
       "1               300     300       70          70       NaN     unknown  ...   \n",
       "2                 1     NaN  unknown         NaN       NaN     unknown  ...   \n",
       "3                10     686  unknown         NaN       NaN     unknown  ...   \n",
       "4                 1     NaN  unknown         NaN       NaN     unknown  ...   \n",
       "5                 1     8.5  unknown         NaN       NaN     unknown  ...   \n",
       "\n",
       "0 No_Of_Employees Data_Note Source_Name  \\\n",
       "1             NaN       NaN         NaN   \n",
       "2             NaN       NaN         NaN   \n",
       "3             NaN       NaN         NaN   \n",
       "4             NaN       NaN         NaN   \n",
       "5             NaN       NaN         NaN   \n",
       "\n",
       "0                                                Url Url_2 Url_3 Url_4 Url_5  \\\n",
       "1  https://techcrunch.com/2021/07/05/kaseya-hack-...   NaN   NaN   NaN   NaN   \n",
       "2  https://www.teiss.co.uk/salvation-army-ransomw...   NaN   NaN   NaN   NaN   \n",
       "3  https://www.bleepingcomputer.com/news/security...   NaN   NaN   NaN   NaN   \n",
       "4  https://securityaffairs.co/wordpress/119240/ma...   NaN   NaN   NaN   NaN   \n",
       "5  https://www.casino.org/news/lucky-star-casinos...   NaN   NaN   NaN   NaN   \n",
       "\n",
       "0  _Id       Date  \n",
       "1  359 2021-07-01  \n",
       "2  358 2021-06-01  \n",
       "3  357 2021-06-01  \n",
       "4  356 2021-06-01  \n",
       "5  355 2021-06-01  \n",
       "\n",
       "[5 rows x 28 columns]"
      ]
     },
     "execution_count": 35,
     "metadata": {},
     "output_type": "execute_result"
    }
   ],
   "source": [
    "RansomKaggle_cleaned.head()"
   ]
  },
  {
   "cell_type": "markdown",
   "metadata": {},
   "source": [
    "Justification: Combining the Year and Month column to be date and identify the date to be similar to the RansomPost data"
   ]
  },
  {
   "cell_type": "code",
   "execution_count": 36,
   "metadata": {
    "scrolled": false
   },
   "outputs": [
    {
     "data": {
      "text/plain": [
       "0\n",
       "Target                                object\n",
       "Aka                                   object\n",
       "Description                           object\n",
       "Sector                                object\n",
       "Organisation_Size                     object\n",
       "Revenue                               object\n",
       "Cost                                  object\n",
       "Ransom_Cost                           object\n",
       "Data_Note                             object\n",
       "Ransom_Paid                           object\n",
       "Year_Code                             object\n",
       "Location                              object\n",
       "Interesting_Story__Edited_            object\n",
       "Interesting_Story__Long_              object\n",
       "Interesting_Story_                    object\n",
       "Ransomware                            object\n",
       "Stock_Symbol                          object\n",
       "Revenue_As_Of                         object\n",
       "No_Of_Employees                       object\n",
       "Data_Note                             object\n",
       "Source_Name                           object\n",
       "Url                                   object\n",
       "Url_2                                 object\n",
       "Url_3                                 object\n",
       "Url_4                                 object\n",
       "Url_5                                 object\n",
       "_Id                                   object\n",
       "Date                          datetime64[ns]\n",
       "dtype: object"
      ]
     },
     "execution_count": 36,
     "metadata": {},
     "output_type": "execute_result"
    }
   ],
   "source": [
    "RansomKaggle_cleaned.dtypes"
   ]
  },
  {
   "cell_type": "markdown",
   "metadata": {
    "id": "o51Bt8kwyTzk"
   },
   "source": [
    "### **Tidiness Issue 6: RansomKaggle (Fix Sector Names to be Titles)"
   ]
  },
  {
   "cell_type": "code",
   "execution_count": 37,
   "metadata": {
    "id": "7zW8O5yx4Y9O"
   },
   "outputs": [],
   "source": [
    "#Apply the cleaning strategy\n",
    "RansomKaggle_cleaned['Sector'] = RansomKaggle_cleaned['Sector'].str.title()"
   ]
  },
  {
   "cell_type": "code",
   "execution_count": 38,
   "metadata": {
    "id": "q6I_Sr7lxXi5",
    "scrolled": false
   },
   "outputs": [
    {
     "data": {
      "text/html": [
       "<div>\n",
       "<style scoped>\n",
       "    .dataframe tbody tr th:only-of-type {\n",
       "        vertical-align: middle;\n",
       "    }\n",
       "\n",
       "    .dataframe tbody tr th {\n",
       "        vertical-align: top;\n",
       "    }\n",
       "\n",
       "    .dataframe thead th {\n",
       "        text-align: right;\n",
       "    }\n",
       "</style>\n",
       "<table border=\"1\" class=\"dataframe\">\n",
       "  <thead>\n",
       "    <tr style=\"text-align: right;\">\n",
       "      <th></th>\n",
       "      <th>Target</th>\n",
       "      <th>Aka</th>\n",
       "      <th>Description</th>\n",
       "      <th>Sector</th>\n",
       "      <th>Organisation_Size</th>\n",
       "      <th>Revenue</th>\n",
       "      <th>Cost</th>\n",
       "      <th>Ransom_Cost</th>\n",
       "      <th>Data_Note</th>\n",
       "      <th>Ransom_Paid</th>\n",
       "      <th>...</th>\n",
       "      <th>No_Of_Employees</th>\n",
       "      <th>Data_Note</th>\n",
       "      <th>Source_Name</th>\n",
       "      <th>Url</th>\n",
       "      <th>Url_2</th>\n",
       "      <th>Url_3</th>\n",
       "      <th>Url_4</th>\n",
       "      <th>Url_5</th>\n",
       "      <th>_Id</th>\n",
       "      <th>Date</th>\n",
       "    </tr>\n",
       "  </thead>\n",
       "  <tbody>\n",
       "    <tr>\n",
       "      <th>1</th>\n",
       "      <td>Kaseya</td>\n",
       "      <td>NaN</td>\n",
       "      <td>NaN</td>\n",
       "      <td>Tech</td>\n",
       "      <td>300</td>\n",
       "      <td>300</td>\n",
       "      <td>70</td>\n",
       "      <td>70</td>\n",
       "      <td>NaN</td>\n",
       "      <td>unknown</td>\n",
       "      <td>...</td>\n",
       "      <td>NaN</td>\n",
       "      <td>NaN</td>\n",
       "      <td>NaN</td>\n",
       "      <td>https://techcrunch.com/2021/07/05/kaseya-hack-...</td>\n",
       "      <td>NaN</td>\n",
       "      <td>NaN</td>\n",
       "      <td>NaN</td>\n",
       "      <td>NaN</td>\n",
       "      <td>359</td>\n",
       "      <td>2021-07-01</td>\n",
       "    </tr>\n",
       "    <tr>\n",
       "      <th>2</th>\n",
       "      <td>Salvation Army</td>\n",
       "      <td>NaN</td>\n",
       "      <td>NaN</td>\n",
       "      <td>NaN</td>\n",
       "      <td>1</td>\n",
       "      <td>NaN</td>\n",
       "      <td>unknown</td>\n",
       "      <td>NaN</td>\n",
       "      <td>NaN</td>\n",
       "      <td>unknown</td>\n",
       "      <td>...</td>\n",
       "      <td>NaN</td>\n",
       "      <td>NaN</td>\n",
       "      <td>NaN</td>\n",
       "      <td>https://www.teiss.co.uk/salvation-army-ransomw...</td>\n",
       "      <td>NaN</td>\n",
       "      <td>NaN</td>\n",
       "      <td>NaN</td>\n",
       "      <td>NaN</td>\n",
       "      <td>358</td>\n",
       "      <td>2021-06-01</td>\n",
       "    </tr>\n",
       "    <tr>\n",
       "      <th>3</th>\n",
       "      <td>Grupo Fleury</td>\n",
       "      <td>NaN</td>\n",
       "      <td>Brazil's largest diagnostic company</td>\n",
       "      <td>Healthcare</td>\n",
       "      <td>10</td>\n",
       "      <td>686</td>\n",
       "      <td>unknown</td>\n",
       "      <td>NaN</td>\n",
       "      <td>NaN</td>\n",
       "      <td>unknown</td>\n",
       "      <td>...</td>\n",
       "      <td>NaN</td>\n",
       "      <td>NaN</td>\n",
       "      <td>NaN</td>\n",
       "      <td>https://www.bleepingcomputer.com/news/security...</td>\n",
       "      <td>NaN</td>\n",
       "      <td>NaN</td>\n",
       "      <td>NaN</td>\n",
       "      <td>NaN</td>\n",
       "      <td>357</td>\n",
       "      <td>2021-06-01</td>\n",
       "    </tr>\n",
       "    <tr>\n",
       "      <th>4</th>\n",
       "      <td>City of Liege</td>\n",
       "      <td>NaN</td>\n",
       "      <td>NaN</td>\n",
       "      <td>Government</td>\n",
       "      <td>1</td>\n",
       "      <td>NaN</td>\n",
       "      <td>unknown</td>\n",
       "      <td>NaN</td>\n",
       "      <td>NaN</td>\n",
       "      <td>unknown</td>\n",
       "      <td>...</td>\n",
       "      <td>NaN</td>\n",
       "      <td>NaN</td>\n",
       "      <td>NaN</td>\n",
       "      <td>https://securityaffairs.co/wordpress/119240/ma...</td>\n",
       "      <td>NaN</td>\n",
       "      <td>NaN</td>\n",
       "      <td>NaN</td>\n",
       "      <td>NaN</td>\n",
       "      <td>356</td>\n",
       "      <td>2021-06-01</td>\n",
       "    </tr>\n",
       "    <tr>\n",
       "      <th>5</th>\n",
       "      <td>Lucky Star Casino</td>\n",
       "      <td>NaN</td>\n",
       "      <td>NaN</td>\n",
       "      <td>NaN</td>\n",
       "      <td>1</td>\n",
       "      <td>8.5</td>\n",
       "      <td>unknown</td>\n",
       "      <td>NaN</td>\n",
       "      <td>NaN</td>\n",
       "      <td>unknown</td>\n",
       "      <td>...</td>\n",
       "      <td>NaN</td>\n",
       "      <td>NaN</td>\n",
       "      <td>NaN</td>\n",
       "      <td>https://www.casino.org/news/lucky-star-casinos...</td>\n",
       "      <td>NaN</td>\n",
       "      <td>NaN</td>\n",
       "      <td>NaN</td>\n",
       "      <td>NaN</td>\n",
       "      <td>355</td>\n",
       "      <td>2021-06-01</td>\n",
       "    </tr>\n",
       "  </tbody>\n",
       "</table>\n",
       "<p>5 rows × 28 columns</p>\n",
       "</div>"
      ],
      "text/plain": [
       "0             Target  Aka                          Description      Sector  \\\n",
       "1             Kaseya  NaN                                  NaN        Tech   \n",
       "2     Salvation Army  NaN                                  NaN         NaN   \n",
       "3       Grupo Fleury  NaN  Brazil's largest diagnostic company  Healthcare   \n",
       "4      City of Liege  NaN                                  NaN  Government   \n",
       "5  Lucky Star Casino  NaN                                  NaN         NaN   \n",
       "\n",
       "0 Organisation_Size Revenue     Cost Ransom_Cost Data_Note Ransom_Paid  ...  \\\n",
       "1               300     300       70          70       NaN     unknown  ...   \n",
       "2                 1     NaN  unknown         NaN       NaN     unknown  ...   \n",
       "3                10     686  unknown         NaN       NaN     unknown  ...   \n",
       "4                 1     NaN  unknown         NaN       NaN     unknown  ...   \n",
       "5                 1     8.5  unknown         NaN       NaN     unknown  ...   \n",
       "\n",
       "0 No_Of_Employees Data_Note Source_Name  \\\n",
       "1             NaN       NaN         NaN   \n",
       "2             NaN       NaN         NaN   \n",
       "3             NaN       NaN         NaN   \n",
       "4             NaN       NaN         NaN   \n",
       "5             NaN       NaN         NaN   \n",
       "\n",
       "0                                                Url Url_2 Url_3 Url_4 Url_5  \\\n",
       "1  https://techcrunch.com/2021/07/05/kaseya-hack-...   NaN   NaN   NaN   NaN   \n",
       "2  https://www.teiss.co.uk/salvation-army-ransomw...   NaN   NaN   NaN   NaN   \n",
       "3  https://www.bleepingcomputer.com/news/security...   NaN   NaN   NaN   NaN   \n",
       "4  https://securityaffairs.co/wordpress/119240/ma...   NaN   NaN   NaN   NaN   \n",
       "5  https://www.casino.org/news/lucky-star-casinos...   NaN   NaN   NaN   NaN   \n",
       "\n",
       "0  _Id       Date  \n",
       "1  359 2021-07-01  \n",
       "2  358 2021-06-01  \n",
       "3  357 2021-06-01  \n",
       "4  356 2021-06-01  \n",
       "5  355 2021-06-01  \n",
       "\n",
       "[5 rows x 28 columns]"
      ]
     },
     "execution_count": 38,
     "metadata": {},
     "output_type": "execute_result"
    }
   ],
   "source": [
    "#Validate the cleaning was successful\n",
    "RansomKaggle_cleaned.head()"
   ]
  },
  {
   "cell_type": "markdown",
   "metadata": {},
   "source": [
    "Justification: Sector had some lowercase names so I made them titles"
   ]
  },
  {
   "cell_type": "markdown",
   "metadata": {
    "id": "bIUrrfSNyOPR"
   },
   "source": [
    "### **Tidiness Issue 7: RansomKaggle Column RansomWare change to Group**"
   ]
  },
  {
   "cell_type": "code",
   "execution_count": 39,
   "metadata": {
    "id": "fib0zAm333bn"
   },
   "outputs": [],
   "source": [
    "#Apply the cleaning strategy\n",
    "RansomKaggle_cleaned.rename(columns={'Ransomware': 'Group'}, inplace=True)"
   ]
  },
  {
   "cell_type": "code",
   "execution_count": 40,
   "metadata": {
    "id": "yhrnUGY_Nk8B"
   },
   "outputs": [
    {
     "data": {
      "text/plain": [
       "['Target',\n",
       " 'Aka',\n",
       " 'Description',\n",
       " 'Sector',\n",
       " 'Organisation_Size',\n",
       " 'Revenue',\n",
       " 'Cost',\n",
       " 'Ransom_Cost',\n",
       " 'Data_Note',\n",
       " 'Ransom_Paid',\n",
       " 'Year_Code',\n",
       " 'Location',\n",
       " 'Interesting_Story__Edited_',\n",
       " 'Interesting_Story__Long_',\n",
       " 'Interesting_Story_',\n",
       " 'Group',\n",
       " 'Stock_Symbol',\n",
       " 'Revenue_As_Of',\n",
       " 'No_Of_Employees',\n",
       " 'Data_Note',\n",
       " 'Source_Name',\n",
       " 'Url',\n",
       " 'Url_2',\n",
       " 'Url_3',\n",
       " 'Url_4',\n",
       " 'Url_5',\n",
       " '_Id',\n",
       " 'Date']"
      ]
     },
     "execution_count": 40,
     "metadata": {},
     "output_type": "execute_result"
    }
   ],
   "source": [
    "#Validate the cleaning was successful\n",
    "RansomKaggle_cleaned.columns.tolist()"
   ]
  },
  {
   "cell_type": "markdown",
   "metadata": {},
   "source": [
    "Justification: Changed the name of Ransomware to Group to be uniform with RansomPost data"
   ]
  },
  {
   "cell_type": "markdown",
   "metadata": {
    "id": "o51Bt8kwyTzk"
   },
   "source": [
    "### **Quality Issue 1: RansomKaggle (Remove Rows with Empty data in Target Column)"
   ]
  },
  {
   "cell_type": "code",
   "execution_count": 41,
   "metadata": {
    "id": "7zW8O5yx4Y9O"
   },
   "outputs": [],
   "source": [
    "#Apply the cleaning strategy\n",
    "RansomKaggle_cleaned = RansomKaggle_cleaned.dropna(subset=['Target'])\n",
    "\n",
    "# Reset the index after removing rows\n",
    "RansomKaggle_cleaned.reset_index(drop=True, inplace=True)"
   ]
  },
  {
   "cell_type": "code",
   "execution_count": 42,
   "metadata": {
    "id": "q6I_Sr7lxXi5"
   },
   "outputs": [
    {
     "name": "stdout",
     "output_type": "stream",
     "text": [
      "Number of missing values in the 'Target' column: 0\n"
     ]
    }
   ],
   "source": [
    "#Validate the cleaning was successful\n",
    "missing_data_target = RansomKaggle_cleaned['Target'].isnull().sum()\n",
    "\n",
    "print(\"Number of missing values in the 'Target' column:\", missing_data_target)"
   ]
  },
  {
   "cell_type": "markdown",
   "metadata": {},
   "source": [
    "Justification: dropping empty data and confirming they have been removed from the Target column"
   ]
  },
  {
   "cell_type": "markdown",
   "metadata": {
    "id": "o51Bt8kwyTzk"
   },
   "source": [
    "### **Quality Issue 2: RansomKaggle (Remove Duplicate Rows)"
   ]
  },
  {
   "cell_type": "code",
   "execution_count": 43,
   "metadata": {
    "id": "7zW8O5yx4Y9O"
   },
   "outputs": [
    {
     "name": "stderr",
     "output_type": "stream",
     "text": [
      "/tmp/ipykernel_147/3136315073.py:3: SettingWithCopyWarning: \n",
      "A value is trying to be set on a copy of a slice from a DataFrame\n",
      "\n",
      "See the caveats in the documentation: https://pandas.pydata.org/pandas-docs/stable/user_guide/indexing.html#returning-a-view-versus-a-copy\n",
      "  RansomKaggle_cleaned.drop_duplicates(inplace=True)\n"
     ]
    }
   ],
   "source": [
    "#Apply the cleaning strategy\n",
    "# Remove completely duplicate rows\n",
    "RansomKaggle_cleaned.drop_duplicates(inplace=True)"
   ]
  },
  {
   "cell_type": "code",
   "execution_count": 44,
   "metadata": {
    "id": "q6I_Sr7lxXi5"
   },
   "outputs": [
    {
     "data": {
      "text/plain": [
       "(358, 28)"
      ]
     },
     "execution_count": 44,
     "metadata": {},
     "output_type": "execute_result"
    }
   ],
   "source": [
    "#Validate the cleaning was successful\n",
    "RansomKaggle_cleaned.shape"
   ]
  },
  {
   "cell_type": "markdown",
   "metadata": {},
   "source": [
    "Justification: Dropping duplicated to strengthen data quality"
   ]
  },
  {
   "cell_type": "markdown",
   "metadata": {
    "id": "o51Bt8kwyTzk"
   },
   "source": [
    "### **Quality Issue 3: RansomKaggle and RansomPost Date/time should be the same "
   ]
  },
  {
   "cell_type": "code",
   "execution_count": 45,
   "metadata": {
    "id": "7zW8O5yx4Y9O"
   },
   "outputs": [
    {
     "name": "stderr",
     "output_type": "stream",
     "text": [
      "/tmp/ipykernel_147/4149490752.py:3: SettingWithCopyWarning: \n",
      "A value is trying to be set on a copy of a slice from a DataFrame.\n",
      "Try using .loc[row_indexer,col_indexer] = value instead\n",
      "\n",
      "See the caveats in the documentation: https://pandas.pydata.org/pandas-docs/stable/user_guide/indexing.html#returning-a-view-versus-a-copy\n",
      "  RansomKaggle_cleaned['Date'] = pd.to_datetime(RansomKaggle_cleaned['Date'])\n"
     ]
    }
   ],
   "source": [
    "#Apply the cleaning strategy\n",
    "# Fixing data types for RansomKaggle_cleaned_1.csv\n",
    "RansomKaggle_cleaned['Date'] = pd.to_datetime(RansomKaggle_cleaned['Date'])\n",
    "\n",
    "# For RansomPost_cleaned_1.csv, ensuring 'Date' is datetime\n",
    "RansomPost_cleaned['Date'] = pd.to_datetime(RansomPost_cleaned['Date'])"
   ]
  },
  {
   "cell_type": "code",
   "execution_count": 46,
   "metadata": {
    "id": "q6I_Sr7lxXi5"
   },
   "outputs": [
    {
     "data": {
      "text/plain": [
       "0\n",
       "Target                                object\n",
       "Aka                                   object\n",
       "Description                           object\n",
       "Sector                                object\n",
       "Organisation_Size                     object\n",
       "Revenue                               object\n",
       "Cost                                  object\n",
       "Ransom_Cost                           object\n",
       "Data_Note                             object\n",
       "Ransom_Paid                           object\n",
       "Year_Code                             object\n",
       "Location                              object\n",
       "Interesting_Story__Edited_            object\n",
       "Interesting_Story__Long_              object\n",
       "Interesting_Story_                    object\n",
       "Group                                 object\n",
       "Stock_Symbol                          object\n",
       "Revenue_As_Of                         object\n",
       "No_Of_Employees                       object\n",
       "Data_Note                             object\n",
       "Source_Name                           object\n",
       "Url                                   object\n",
       "Url_2                                 object\n",
       "Url_3                                 object\n",
       "Url_4                                 object\n",
       "Url_5                                 object\n",
       "_Id                                   object\n",
       "Date                          datetime64[ns]\n",
       "dtype: object"
      ]
     },
     "execution_count": 46,
     "metadata": {},
     "output_type": "execute_result"
    }
   ],
   "source": [
    "#Validate the cleaning was successful\n",
    "RansomKaggle_cleaned.dtypes"
   ]
  },
  {
   "cell_type": "code",
   "execution_count": 47,
   "metadata": {},
   "outputs": [
    {
     "data": {
      "text/plain": [
       "Target            object\n",
       "Group             object\n",
       "Date      datetime64[ns]\n",
       "dtype: object"
      ]
     },
     "execution_count": 47,
     "metadata": {},
     "output_type": "execute_result"
    }
   ],
   "source": [
    "RansomPost_cleaned.dtypes"
   ]
  },
  {
   "cell_type": "markdown",
   "metadata": {},
   "source": [
    "Justification: Need uniformity between both Date columns for each data set in order to do timeline analysis"
   ]
  },
  {
   "cell_type": "markdown",
   "metadata": {},
   "source": [
    "### **Remove unnecessary variables and combine datasets**\n",
    "\n",
    "Depending on the datasets, you can also peform the combination before the cleaning steps."
   ]
  },
  {
   "cell_type": "code",
   "execution_count": 48,
   "metadata": {},
   "outputs": [
    {
     "name": "stdout",
     "output_type": "stream",
     "text": [
      "Index(['Target', 'Description', 'Sector', 'Organisation_Size', 'Location',\n",
      "       'Group', 'Revenue_As_Of', 'No_Of_Employees', '_Id', 'Date'],\n",
      "      dtype='object', name=0)\n"
     ]
    }
   ],
   "source": [
    "#FILL IN - Remove unnecessary variables and combine datasets\n",
    "#Apply the cleaning strategy\n",
    "# Updated list of columns to drop\n",
    "columns_to_drop = ['Aka', 'Data_Note', 'Data_Note.1', 'Interesting_Story__Edited_', \n",
    "                   'Interesting_Story__Long_', 'Revenue', 'Ransom_Cost', 'Ransom_Paid', \n",
    "                   'Interesting_Story_', 'Url', 'Url_2', 'Source_Name', 'Year_Code', 'Cost',\n",
    "                   'Url_3', 'Url_4', 'Url_5', 'Stock_Symbol', '_Id' 'Revenue_As_Of']\n",
    "\n",
    "# Only keep columns to drop that actually exist in the DataFrame\n",
    "columns_to_drop = [col for col in columns_to_drop if col in RansomKaggle_cleaned.columns]\n",
    "\n",
    "# Drop the specified columns safely\n",
    "RansomKaggle_cleaned = RansomKaggle_cleaned.drop(columns=columns_to_drop, axis=1)\n",
    "\n",
    "# Check the DataFrame to confirm changes\n",
    "print(RansomKaggle_cleaned.columns)\n"
   ]
  },
  {
   "cell_type": "code",
   "execution_count": 49,
   "metadata": {},
   "outputs": [
    {
     "data": {
      "text/html": [
       "<div>\n",
       "<style scoped>\n",
       "    .dataframe tbody tr th:only-of-type {\n",
       "        vertical-align: middle;\n",
       "    }\n",
       "\n",
       "    .dataframe tbody tr th {\n",
       "        vertical-align: top;\n",
       "    }\n",
       "\n",
       "    .dataframe thead th {\n",
       "        text-align: right;\n",
       "    }\n",
       "</style>\n",
       "<table border=\"1\" class=\"dataframe\">\n",
       "  <thead>\n",
       "    <tr style=\"text-align: right;\">\n",
       "      <th></th>\n",
       "      <th>Target</th>\n",
       "      <th>Group</th>\n",
       "      <th>Date</th>\n",
       "    </tr>\n",
       "  </thead>\n",
       "  <tbody>\n",
       "    <tr>\n",
       "      <th>0</th>\n",
       "      <td>Future Generations Foundation</td>\n",
       "      <td>meow</td>\n",
       "      <td>2024-03-05 06:42:21.719281</td>\n",
       "    </tr>\n",
       "    <tr>\n",
       "      <th>1</th>\n",
       "      <td>se.com</td>\n",
       "      <td>cactus</td>\n",
       "      <td>2024-03-04 22:42:04.403377</td>\n",
       "    </tr>\n",
       "    <tr>\n",
       "      <th>2</th>\n",
       "      <td>dismogas.com</td>\n",
       "      <td>stormous</td>\n",
       "      <td>2024-03-04 18:44:34.272632</td>\n",
       "    </tr>\n",
       "    <tr>\n",
       "      <th>3</th>\n",
       "      <td>everplast.com.br</td>\n",
       "      <td>stormous</td>\n",
       "      <td>2024-03-04 18:44:33.107976</td>\n",
       "    </tr>\n",
       "    <tr>\n",
       "      <th>4</th>\n",
       "      <td>America Chung Nam or ACN</td>\n",
       "      <td>akira</td>\n",
       "      <td>2024-03-04 16:46:06.185023</td>\n",
       "    </tr>\n",
       "  </tbody>\n",
       "</table>\n",
       "</div>"
      ],
      "text/plain": [
       "                          Target     Group                       Date\n",
       "0  Future Generations Foundation      meow 2024-03-05 06:42:21.719281\n",
       "1                         se.com    cactus 2024-03-04 22:42:04.403377\n",
       "2                   dismogas.com  stormous 2024-03-04 18:44:34.272632\n",
       "3               everplast.com.br  stormous 2024-03-04 18:44:33.107976\n",
       "4       America Chung Nam or ACN     akira 2024-03-04 16:46:06.185023"
      ]
     },
     "execution_count": 49,
     "metadata": {},
     "output_type": "execute_result"
    }
   ],
   "source": [
    "common_columns = ['Target', 'Group', 'Date']  \n",
    "\n",
    "#Dataframes that have the same columns \n",
    "ransompost_cleaned_Final = RansomPost_cleaned[common_columns]\n",
    "RansomKaggle_cleaned_Final = RansomKaggle_cleaned[common_columns]\n",
    "\n",
    "# Concatenate the datasets\n",
    "Combined_df = pd.concat([ransompost_cleaned_Final, RansomKaggle_cleaned_Final], axis=0)\n",
    "\n",
    "# Check the combined dataset\n",
    "Combined_df.head()"
   ]
  },
  {
   "cell_type": "markdown",
   "metadata": {
    "id": "F42urHuzttjF"
   },
   "source": [
    "## 4. Update your data store\n",
    "Update your local database/data store with the cleaned data, following best practices for storing your cleaned data:\n",
    "\n",
    "- Must maintain different instances / versions of data (raw and cleaned data)\n",
    "- Must name the dataset files informatively\n",
    "- Ensure both the raw and cleaned data is saved to your database/data store"
   ]
  },
  {
   "cell_type": "code",
   "execution_count": 50,
   "metadata": {
    "id": "V3uay7EJUV_L"
   },
   "outputs": [
    {
     "data": {
      "text/plain": [
       "'Combined_Data_Final.csv'"
      ]
     },
     "execution_count": 50,
     "metadata": {},
     "output_type": "execute_result"
    }
   ],
   "source": [
    "#FILL IN - saving data\n",
    "\n",
    "file_path = \"Combined_Data_Final.csv\"\n",
    "\n",
    "# Save the combined DataFrame to a CSV file\n",
    "Combined_df.to_csv(file_path, index=False)\n",
    "\n",
    "# Print a message confirming that the file has been saved\n",
    "file_path"
   ]
  },
  {
   "cell_type": "markdown",
   "metadata": {
    "id": "cGy_yddGtzhM"
   },
   "source": [
    "## 5. Answer the research question\n",
    "\n",
    "### **5.1:** Define and answer the research question \n",
    "Going back to the problem statement in step 1, use the cleaned data to answer the question you raised. Produce **at least** two visualizations using the cleaned data and explain how they help you answer the question."
   ]
  },
  {
   "cell_type": "markdown",
   "metadata": {
    "id": "gjedE4s4ZkEd"
   },
   "source": [
    "*Research question:* What is the trend of ransomware attacks over the past 10 years?"
   ]
  },
  {
   "cell_type": "code",
   "execution_count": 52,
   "metadata": {
    "id": "Lkw3rW9kZmOm"
   },
   "outputs": [
    {
     "data": {
      "image/png": "[encoded data removed]",
      "text/plain": [
       "<Figure size 1200x600 with 1 Axes>"
      ]
     },
     "metadata": {},
     "output_type": "display_data"
    }
   ],
   "source": [
    "#Visual 1 - FILL IN\n",
    "# Extract year and month from the Date column\n",
    "Combined_df['Year'] = Combined_df['Date'].dt.year\n",
    "Combined_df['Month'] = Combined_df['Date'].dt.month_name()\n",
    "\n",
    "# Set the style of seaborn\n",
    "sns.set_style(\"whitegrid\")\n",
    "\n",
    "# Plot the count of attacks per month\n",
    "plt.figure(figsize=(12, 6))\n",
    "sns.countplot(data=Combined_df, x='Month', hue='Year', palette='viridis')\n",
    "plt.title('Number of Attacks per Month')\n",
    "plt.xlabel('Month')\n",
    "plt.ylabel('Count of Attacks')\n",
    "plt.xticks(rotation=45)  # Rotate x-axis labels for better readability\n",
    "plt.tight_layout()\n",
    "plt.legend(title='Year')\n",
    "plt.show()"
   ]
  },
  {
   "cell_type": "markdown",
   "metadata": {},
   "source": [
    "*Answer to research question:* Cyber attacks have increase over the years due to increase cyber capabilities and more than likely the free time that has been available since COVID as indicated by the spike in activity in 2020 forward. "
   ]
  },
  {
   "cell_type": "markdown",
   "metadata": {
    "id": "gjedE4s4ZkEd"
   },
   "source": [
    "*Research question: What cyber groups are the most prevalent?"
   ]
  },
  {
   "cell_type": "code",
   "execution_count": 53,
   "metadata": {
    "id": "6fdK_8ZGZm9R"
   },
   "outputs": [
    {
     "data": {
      "image/png": "[encoded data removed]",
      "text/plain": [
       "<Figure size 1000x800 with 1 Axes>"
      ]
     },
     "metadata": {},
     "output_type": "display_data"
    }
   ],
   "source": [
    "# Get the top 20 most common cyber groups\n",
    "top_groups = Combined_df['Group'].value_counts().head(20)\n",
    "\n",
    "# Plot the top 20 cyber groups\n",
    "plt.figure(figsize=(10, 8))\n",
    "top_groups.plot(kind='bar', color='skyblue')\n",
    "plt.title('Top 20 Cyber Groups')\n",
    "plt.xlabel('Cyber Group')\n",
    "plt.ylabel('Frequency')\n",
    "plt.xticks(rotation=45)\n",
    "plt.tight_layout()\n",
    "plt.show()"
   ]
  },
  {
   "cell_type": "markdown",
   "metadata": {
    "id": "K5RgvMGUZoHn"
   },
   "source": [
    "*Answer to research question: The Most prevalent cyber group is Lockbit as their frequency is the highest. "
   ]
  },
  {
   "cell_type": "markdown",
   "metadata": {
    "id": "0ezWXXZVj-TP"
   },
   "source": [
    "### **5.2:** Reflection\n",
    "In 2-4 sentences, if you had more time to complete the project, what actions would you take? For example, which data quality and structural issues would you look into further, and what research questions would you further explore?"
   ]
  },
  {
   "cell_type": "markdown",
   "metadata": {
    "id": "XB3RBDG5kFe1"
   },
   "source": [
    "*Answer:* If I had more time I would meticulously go over the data and single out the domains and identify which ones are from which location in the RansomPost data and create a new column based on the suffixes of the domains. Then I would look at the comparison of location. Structural issues would be all the empty data in RansomKaggle which caused a lot of cleaning even for a Kaggle site dataset. If information on cyber attacks weren't paywalled I would have been able to come up with more valueable insight. "
   ]
  }
 ],
 "metadata": {
  "colab": {
   "provenance": []
  },
  "kernelspec": {
   "display_name": "Python 3 (ipykernel)",
   "language": "python",
   "name": "python3"
  },
  "language_info": {
   "codemirror_mode": {
    "name": "ipython",
    "version": 3
   },
   "file_extension": ".py",
   "mimetype": "text/x-python",
   "name": "python",
   "nbconvert_exporter": "python",
   "pygments_lexer": "ipython3",
   "version": "3.10.13"
  }
 },
 "nbformat": 4,
 "nbformat_minor": 1
}
